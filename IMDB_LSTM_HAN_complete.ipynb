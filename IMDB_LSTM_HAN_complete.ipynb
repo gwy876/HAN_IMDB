{
 "cells": [
  {
   "cell_type": "code",
   "execution_count": 1,
   "metadata": {},
   "outputs": [],
   "source": [
    "# data : imdb unzip하여 다운\n",
    "# wget https://www.kaggle.com/c/word2vec-nlp-tutorial/download/labeledTrainData.tsv\n",
    "# 이름바꾸고 unzip\n",
    "\n",
    "\n",
    "# HAN 코드 출처\n",
    "# https://www.kaggle.com/sermakarevich/hierarchical-attention-network/comments\n",
    "# https://richliao.github.io/supervised/classification/2016/12/26/textclassifier-HATN/"
   ]
  },
  {
   "cell_type": "code",
   "execution_count": 2,
   "metadata": {},
   "outputs": [
    {
     "name": "stderr",
     "output_type": "stream",
     "text": [
      "Using TensorFlow backend.\n"
     ]
    }
   ],
   "source": [
    "import numpy as np\n",
    "import pandas as pd\n",
    "import pickle\n",
    "from collections import defaultdict\n",
    "import re\n",
    "\n",
    "from bs4 import BeautifulSoup\n",
    "\n",
    "import sys\n",
    "import os\n",
    "from nltk import tokenize\n",
    "\n",
    "from keras.preprocessing.text import Tokenizer, text_to_word_sequence\n",
    "from keras.preprocessing.sequence import pad_sequences\n",
    "from keras.utils.np_utils import to_categorical\n",
    "\n",
    "from keras.layers import Embedding, RepeatVector, Permute, Multiply, Lambda, BatchNormalization, LeakyReLU\n",
    "from keras.layers import Dense, Input, Flatten\n",
    "from keras.layers import Conv1D, MaxPooling1D, Embedding, merge, Dropout, LSTM, CuDNNLSTM, GRU, Bidirectional, TimeDistributed\n",
    "from keras.models import Model\n",
    "from keras.callbacks import EarlyStopping, LearningRateScheduler, Callback, ModelCheckpoint\n",
    "\n",
    "from keras.optimizers import Adam, Adadelta, SGD\n",
    "\n",
    "\n",
    "from keras import backend as K\n",
    "from keras.engine.topology import Layer, InputSpec\n",
    "from keras import initializers\n",
    "\n",
    "from tqdm import tqdm\n",
    "import math\n",
    "from matplotlib import pyplot as plt\n",
    "import seaborn as sn\n",
    "from colored import fg, bg, attr"
   ]
  },
  {
   "cell_type": "code",
   "execution_count": 3,
   "metadata": {},
   "outputs": [],
   "source": [
    "MAX_SENT_LENGTH = 100\n",
    "MAX_SENTS = 15\n",
    "MAX_NB_WORDS = 20000\n",
    "EMBEDDING_DIM = 200\n",
    "VALIDATION_SPLIT = 0.2\n",
    "\n",
    "data_dir = 'data/'\n",
    "os.makedirs(data_dir, exist_ok=True)\n",
    "data = 'data/labeledTrainData.tsv'"
   ]
  },
  {
   "cell_type": "code",
   "execution_count": 4,
   "metadata": {},
   "outputs": [],
   "source": [
    "Learning_Rate = 0.001\n",
    "\n",
    "# Learning_Rate_Mode = 'SGD'\n",
    "# Learning_Rate_Mode = 'Amsgrad'\n",
    "Learning_Rate_Mode = 'Adam'\n",
    "# Learning_Rate_Mode = 'Adadelta'    \n",
    "    \n",
    "    \n",
    "SEQ_LEN = 100  # magic number - length to truncate sequences of words\n",
    "lstm_dim = 100\n",
    "dense_dim = 20\n",
    "dense_dropout = 0.2\n",
    "nb_classes = 2\n",
    "epoch = 10\n",
    "batch_size = 64"
   ]
  },
  {
   "cell_type": "code",
   "execution_count": 5,
   "metadata": {},
   "outputs": [
    {
     "name": "stdout",
     "output_type": "stream",
     "text": [
      "(25000, 3)\n"
     ]
    },
    {
     "data": {
      "text/html": [
       "<div>\n",
       "<style scoped>\n",
       "    .dataframe tbody tr th:only-of-type {\n",
       "        vertical-align: middle;\n",
       "    }\n",
       "\n",
       "    .dataframe tbody tr th {\n",
       "        vertical-align: top;\n",
       "    }\n",
       "\n",
       "    .dataframe thead th {\n",
       "        text-align: right;\n",
       "    }\n",
       "</style>\n",
       "<table border=\"1\" class=\"dataframe\">\n",
       "  <thead>\n",
       "    <tr style=\"text-align: right;\">\n",
       "      <th></th>\n",
       "      <th>sentiment</th>\n",
       "      <th>review</th>\n",
       "    </tr>\n",
       "  </thead>\n",
       "  <tbody>\n",
       "    <tr>\n",
       "      <th>0</th>\n",
       "      <td>1</td>\n",
       "      <td>With all this stuff going down at the moment w...</td>\n",
       "    </tr>\n",
       "    <tr>\n",
       "      <th>1</th>\n",
       "      <td>1</td>\n",
       "      <td>\\The Classic War of the Worlds\\\" by Timothy Hi...</td>\n",
       "    </tr>\n",
       "    <tr>\n",
       "      <th>2</th>\n",
       "      <td>0</td>\n",
       "      <td>The film starts with a manager (Nicholas Bell)...</td>\n",
       "    </tr>\n",
       "    <tr>\n",
       "      <th>3</th>\n",
       "      <td>0</td>\n",
       "      <td>It must be assumed that those who praised this...</td>\n",
       "    </tr>\n",
       "    <tr>\n",
       "      <th>4</th>\n",
       "      <td>1</td>\n",
       "      <td>Superbly trashy and wondrously unpretentious 8...</td>\n",
       "    </tr>\n",
       "  </tbody>\n",
       "</table>\n",
       "</div>"
      ],
      "text/plain": [
       "   sentiment                                             review\n",
       "0          1  With all this stuff going down at the moment w...\n",
       "1          1  \\The Classic War of the Worlds\\\" by Timothy Hi...\n",
       "2          0  The film starts with a manager (Nicholas Bell)...\n",
       "3          0  It must be assumed that those who praised this...\n",
       "4          1  Superbly trashy and wondrously unpretentious 8..."
      ]
     },
     "execution_count": 5,
     "metadata": {},
     "output_type": "execute_result"
    }
   ],
   "source": [
    "# imdb data 불러오기\n",
    "\n",
    "data_train = pd.read_csv( data , delimiter='\\t')\n",
    "print(data_train.shape)\n",
    "data_train = data_train.drop(['id'], axis=1)\n",
    "data_train.head()"
   ]
  },
  {
   "cell_type": "code",
   "execution_count": 6,
   "metadata": {},
   "outputs": [],
   "source": [
    "import re\n",
    "from nltk.stem import WordNetLemmatizer\n",
    "from nltk.corpus import stopwords\n",
    "\n",
    "stop_words = set(stopwords.words(\"english\")) \n",
    "lemmatizer = WordNetLemmatizer()\n",
    "\n",
    "\n",
    "def clean_text(text):\n",
    "    text = re.sub(r'[^\\w\\s]','',text, re.UNICODE)\n",
    "    text = text.lower()\n",
    "    text = [lemmatizer.lemmatize(token) for token in text.split(\" \")]\n",
    "    text = [lemmatizer.lemmatize(token, \"v\") for token in text]\n",
    "    text = [word for word in text if not word in stop_words]\n",
    "    text = \" \".join(text)\n",
    "    return text\n",
    "\n",
    "data_train['Processed_Reviews'] = data_train.review.apply(lambda x: clean_text(x))"
   ]
  },
  {
   "cell_type": "code",
   "execution_count": 7,
   "metadata": {},
   "outputs": [
    {
     "data": {
      "text/html": [
       "<div>\n",
       "<style scoped>\n",
       "    .dataframe tbody tr th:only-of-type {\n",
       "        vertical-align: middle;\n",
       "    }\n",
       "\n",
       "    .dataframe tbody tr th {\n",
       "        vertical-align: top;\n",
       "    }\n",
       "\n",
       "    .dataframe thead th {\n",
       "        text-align: right;\n",
       "    }\n",
       "</style>\n",
       "<table border=\"1\" class=\"dataframe\">\n",
       "  <thead>\n",
       "    <tr style=\"text-align: right;\">\n",
       "      <th></th>\n",
       "      <th>sentiment</th>\n",
       "      <th>review</th>\n",
       "      <th>Processed_Reviews</th>\n",
       "    </tr>\n",
       "  </thead>\n",
       "  <tbody>\n",
       "    <tr>\n",
       "      <th>0</th>\n",
       "      <td>1</td>\n",
       "      <td>With all this stuff going down at the moment w...</td>\n",
       "      <td>stuff go moment mj ive start listen music watc...</td>\n",
       "    </tr>\n",
       "    <tr>\n",
       "      <th>1</th>\n",
       "      <td>1</td>\n",
       "      <td>\\The Classic War of the Worlds\\\" by Timothy Hi...</td>\n",
       "      <td>classic war world timothy hines entertain film...</td>\n",
       "    </tr>\n",
       "    <tr>\n",
       "      <th>2</th>\n",
       "      <td>0</td>\n",
       "      <td>The film starts with a manager (Nicholas Bell)...</td>\n",
       "      <td>film start manager nicholas bell give welcome ...</td>\n",
       "    </tr>\n",
       "    <tr>\n",
       "      <th>3</th>\n",
       "      <td>0</td>\n",
       "      <td>It must be assumed that those who praised this...</td>\n",
       "      <td>must assume praise film greatest film opera ev...</td>\n",
       "    </tr>\n",
       "    <tr>\n",
       "      <th>4</th>\n",
       "      <td>1</td>\n",
       "      <td>Superbly trashy and wondrously unpretentious 8...</td>\n",
       "      <td>superbly trashy wondrously unpretentious 80 ex...</td>\n",
       "    </tr>\n",
       "    <tr>\n",
       "      <th>5</th>\n",
       "      <td>1</td>\n",
       "      <td>I dont know why people think this is such a ba...</td>\n",
       "      <td>dont know people think bad movie get pretty go...</td>\n",
       "    </tr>\n",
       "    <tr>\n",
       "      <th>6</th>\n",
       "      <td>0</td>\n",
       "      <td>This movie could have been very good, but come...</td>\n",
       "      <td>movie could good come way short cheesy special...</td>\n",
       "    </tr>\n",
       "    <tr>\n",
       "      <th>7</th>\n",
       "      <td>0</td>\n",
       "      <td>I watched this video at a friend's house. I'm ...</td>\n",
       "      <td>watch video friend house im glad waste money b...</td>\n",
       "    </tr>\n",
       "    <tr>\n",
       "      <th>8</th>\n",
       "      <td>0</td>\n",
       "      <td>A friend of mine bought this film for £1, and ...</td>\n",
       "      <td>friend mine buy film 1 even wa grossly overpri...</td>\n",
       "    </tr>\n",
       "    <tr>\n",
       "      <th>9</th>\n",
       "      <td>1</td>\n",
       "      <td>&lt;br /&gt;&lt;br /&gt;This movie is full of references. ...</td>\n",
       "      <td>br br movie full reference like mad max ii wil...</td>\n",
       "    </tr>\n",
       "  </tbody>\n",
       "</table>\n",
       "</div>"
      ],
      "text/plain": [
       "   sentiment                                             review  \\\n",
       "0          1  With all this stuff going down at the moment w...   \n",
       "1          1  \\The Classic War of the Worlds\\\" by Timothy Hi...   \n",
       "2          0  The film starts with a manager (Nicholas Bell)...   \n",
       "3          0  It must be assumed that those who praised this...   \n",
       "4          1  Superbly trashy and wondrously unpretentious 8...   \n",
       "5          1  I dont know why people think this is such a ba...   \n",
       "6          0  This movie could have been very good, but come...   \n",
       "7          0  I watched this video at a friend's house. I'm ...   \n",
       "8          0  A friend of mine bought this film for £1, and ...   \n",
       "9          1  <br /><br />This movie is full of references. ...   \n",
       "\n",
       "                                   Processed_Reviews  \n",
       "0  stuff go moment mj ive start listen music watc...  \n",
       "1  classic war world timothy hines entertain film...  \n",
       "2  film start manager nicholas bell give welcome ...  \n",
       "3  must assume praise film greatest film opera ev...  \n",
       "4  superbly trashy wondrously unpretentious 80 ex...  \n",
       "5  dont know people think bad movie get pretty go...  \n",
       "6  movie could good come way short cheesy special...  \n",
       "7  watch video friend house im glad waste money b...  \n",
       "8  friend mine buy film 1 even wa grossly overpri...  \n",
       "9  br br movie full reference like mad max ii wil...  "
      ]
     },
     "execution_count": 7,
     "metadata": {},
     "output_type": "execute_result"
    }
   ],
   "source": [
    "data_train[:10]"
   ]
  },
  {
   "cell_type": "code",
   "execution_count": 8,
   "metadata": {
    "scrolled": false
   },
   "outputs": [
    {
     "name": "stderr",
     "output_type": "stream",
     "text": [
      "/home/go/.local/lib/python3.6/site-packages/keras_preprocessing/text.py:177: UserWarning: The `nb_words` argument in `Tokenizer` has been renamed `num_words`.\n",
      "  warnings.warn('The `nb_words` argument in `Tokenizer` '\n"
     ]
    },
    {
     "name": "stdout",
     "output_type": "stream",
     "text": [
      "(25000, 15, 100)\n"
     ]
    }
   ],
   "source": [
    "# def clean_str(string):\n",
    "#     \"\"\"\n",
    "#     Tokenization/string cleaning for dataset\n",
    "#     Every dataset is lower cased except\n",
    "#     \"\"\"\n",
    "#     string = re.sub(r\"\\\\\", \"\", string, re.UNICODE)\n",
    "#     string = re.sub(r\"\\'\", \"\", string, re.UNICODE)\n",
    "#     string = re.sub(r\"\\\"\", \"\", string, re.UNICODE)\n",
    "#     return string.strip().lower()\n",
    "\n",
    "reviews = []\n",
    "labels = []\n",
    "texts = []\n",
    "\n",
    "for idx in range(data_train.review.shape[0]):\n",
    "    text = data_train.review[idx]\n",
    "#     text = text.get_text().encode('ascii', 'ignore')\n",
    "#     text = clean_str(text)\n",
    "    text = clean_text(text)   # 캐글 전처리기 사용\n",
    "    texts.append(text)\n",
    "    sentences = tokenize.sent_tokenize(text)\n",
    "    reviews.append(sentences)\n",
    "\n",
    "    labels.append(data_train.sentiment[idx])\n",
    "\n",
    "tokenizer = Tokenizer(nb_words=MAX_NB_WORDS)\n",
    "tokenizer.fit_on_texts(texts)\n",
    "\n",
    "# text가 여러 문장으로 되어있는 review 이다. 그러므로 document지\n",
    "# 입력데이타 : [ N , 최대문장수, 최대문장길이]\n",
    "data = np.zeros((len(texts), MAX_SENTS, MAX_SENT_LENGTH), dtype='int32')\n",
    "print(data.shape)"
   ]
  },
  {
   "cell_type": "code",
   "execution_count": 127,
   "metadata": {},
   "outputs": [
    {
     "name": "stdout",
     "output_type": "stream",
     "text": [
      "Total 103051 unique tokens.\n",
      "Shape of data tensor: (25000, 15, 100)\n",
      "Shape of label tensor: (25000, 2, 2, 2)\n",
      "Number of positive and negative reviews in traing and validation set\n",
      "[[[10019.  9981.]\n",
      "  [ 9981. 10019.]]\n",
      "\n",
      " [[ 9981. 10019.]\n",
      "  [10019.  9981.]]]\n",
      "[[[2481. 2519.]\n",
      "  [2519. 2481.]]\n",
      "\n",
      " [[2519. 2481.]\n",
      "  [2481. 2519.]]]\n"
     ]
    }
   ],
   "source": [
    "for i, sentences in enumerate(reviews):\n",
    "    for j, sent in enumerate(sentences):\n",
    "        if j < MAX_SENTS:\n",
    "            wordTokens = text_to_word_sequence(sent)\n",
    "            k = 0\n",
    "            for _, word in enumerate(wordTokens):\n",
    "                if k < MAX_SENT_LENGTH and tokenizer.word_index[word] < MAX_NB_WORDS:\n",
    "                    data[i, j, k] = tokenizer.word_index[word]\n",
    "                    k = k + 1\n",
    "\n",
    "word_index = tokenizer.word_index\n",
    "print('Total %s unique tokens.' % len(word_index))\n",
    "\n",
    "labels = to_categorical(np.asarray(labels))\n",
    "print('Shape of data tensor:', data.shape)\n",
    "print('Shape of label tensor:', labels.shape)\n",
    "\n",
    "indices = np.arange(data.shape[0])\n",
    "np.random.shuffle(indices)\n",
    "data = data[indices]\n",
    "labels = labels[indices]\n",
    "nb_validation_samples = int(VALIDATION_SPLIT * data.shape[0])\n",
    "\n",
    "x_train = data[:-nb_validation_samples]\n",
    "y_train = labels[:-nb_validation_samples]\n",
    "x_val = data[-nb_validation_samples:]\n",
    "y_val = labels[-nb_validation_samples:]\n",
    "\n",
    "print('Number of positive and negative reviews in traing and validation set')\n",
    "print(y_train.sum(axis=0))\n",
    "print(y_val.sum(axis=0))"
   ]
  },
  {
   "cell_type": "code",
   "execution_count": 10,
   "metadata": {},
   "outputs": [
    {
     "name": "stdout",
     "output_type": "stream",
     "text": [
      "Total 400000 word vectors.\n",
      "done\n"
     ]
    }
   ],
   "source": [
    "GLOVE_DIR = 'glove'\n",
    "embeddings_index = {}\n",
    "f = open(os.path.join(GLOVE_DIR, 'glove.6B.200d.txt'))\n",
    "for line in f:\n",
    "    values = line.split()\n",
    "    word = values[0]\n",
    "    coefs = np.asarray(values[1:], dtype='float32')\n",
    "    embeddings_index[word] = coefs\n",
    "f.close()\n",
    "\n",
    "print('Total %s word vectors.' % len(embeddings_index))\n",
    "\n",
    "embedding_matrix = np.random.random((len(word_index) + 1, EMBEDDING_DIM))\n",
    "for word, i in word_index.items():\n",
    "    embedding_vector = embeddings_index.get(word)\n",
    "    if embedding_vector is not None:\n",
    "        # words not found in embedding index will be all-zeros.\n",
    "        embedding_matrix[i] = embedding_vector\n",
    "\n",
    "\n",
    "# building Hierachical Attention network\n",
    "embedding_matrix = np.random.random((len(word_index) + 1, EMBEDDING_DIM))\n",
    "for word, i in word_index.items():\n",
    "    embedding_vector = embeddings_index.get(word)\n",
    "    if embedding_vector is not None:\n",
    "        # words not found in embedding index will be all-zeros.\n",
    "        embedding_matrix[i] = embedding_vector\n",
    "\n",
    "# 입력 : 총 단어 갯수, 103051\n",
    "# 출력 : EMBEDDING_DIM(200)\n",
    "# embedding_matrix = (103052, 200)\n",
    "embedding_layer = Embedding(len(word_index) + 1,\n",
    "                            EMBEDDING_DIM,\n",
    "                            weights=[embedding_matrix],\n",
    "                            input_length=MAX_SENT_LENGTH,\n",
    "                            trainable=True,\n",
    "                            mask_zero=True)\n",
    "print('done')"
   ]
  },
  {
   "cell_type": "code",
   "execution_count": 11,
   "metadata": {},
   "outputs": [],
   "source": [
    "# visualize\n",
    "def highlight(c, power):\n",
    "    if power >= 0.5:\n",
    "        print('{}{}{}{}'.format(bg(160), attr(1), c, attr(0)), end='')\n",
    "    elif power >= 0.4:\n",
    "        print('{}{}{}{}'.format(bg(196), attr(1), c, attr(0)), end='')\n",
    "    elif power >= 0.3:\n",
    "        print('{}{}{}{}'.format(bg(210), attr(1), c, attr(0)), end='')\n",
    "    elif power >= 0.2:\n",
    "        print('{}{}{}{}'.format(bg(217), attr(1), c, attr(0)), end='')\n",
    "    elif power >= 0.1:\n",
    "        print('{}{}{}{}'.format(bg(224), attr(1), c, attr(0)), end='')\n",
    "    elif power > 0.0:\n",
    "        print('{}{}{}{}'.format(bg(225), attr(1), c, attr(0)), end='')\n",
    "    else:\n",
    "        print(c, end='')\n",
    "        \n",
    "# visualize\n",
    "def highlight_normalize(c, power, power_min, power_max):\n",
    "    # 글자, power, 그 파워의 최소값, 최대값\n",
    "    # 최대, 최소값으로 0~1 normalize\n",
    "    power = (power - power_min) / (power_max - power_min)\n",
    "    \n",
    "    if power >= 0.9:\n",
    "        print('{}{}{}{}'.format(bg(160), attr(1), c, attr(0)), end='')\n",
    "    elif power >= 0.8:\n",
    "        print('{}{}{}{}'.format(bg(196), attr(1), c, attr(0)), end='')\n",
    "    elif power >= 0.6:\n",
    "        print('{}{}{}{}'.format(bg(210), attr(1), c, attr(0)), end='')\n",
    "    elif power >= 0.4:\n",
    "        print('{}{}{}{}'.format(bg(217), attr(1), c, attr(0)), end='')\n",
    "    elif power >= 0.2:\n",
    "        print('{}{}{}{}'.format(bg(224), attr(1), c, attr(0)), end='')\n",
    "    elif power > 0.0:\n",
    "        print('{}{}{}{}'.format(bg(225), attr(1), c, attr(0)), end='')\n",
    "    else:\n",
    "        print(c, end='')"
   ]
  },
  {
   "cell_type": "code",
   "execution_count": 13,
   "metadata": {},
   "outputs": [],
   "source": [
    "class AttentionLayer(Layer):\n",
    "    \"\"\"\n",
    "    Attention operation, with a context/query vector, for temporal data.\n",
    "    Supports Masking.\n",
    "    Follows the work of Yang et al. [https://www.cs.cmu.edu/~diyiy/docs/naacl16.pdf]\n",
    "    \"Hierarchical Attention Networks for Document Classification\"\n",
    "    by using a context vector to assist the attention\n",
    "    # Input shape\n",
    "        3D tensor with shape: `(samples, steps, features)`.\n",
    "    # Output shape\n",
    "        2D tensor with shape: `(samples, features)`.\n",
    "    How to use:\n",
    "    Just put it on top of an RNN Layer (GRU/LSTM/SimpleRNN) with return_sequences=True.\n",
    "    The dimensions are inferred based on the output shape of the RNN.\n",
    "    Note: The layer has been tested with Keras 2.0.6\n",
    "    Example:\n",
    "        model.add(LSTM(64, return_sequences=True))\n",
    "        model.add(AttentionWithContext())\n",
    "        # next add a Dense layer (for classification/regression) or whatever...\n",
    "    \"\"\"\n",
    "#     def __init__(self, attention_dim, **kwargs):\n",
    "    def __init__(self, **kwargs):\n",
    "#         self.attention_dim = attention_dim\n",
    "\n",
    "        self.init = initializers.get('glorot_uniform')\n",
    "        super(AttentionLayer, self).__init__(**kwargs)\n",
    "    \n",
    "    def build(self, input_shape):\n",
    "        assert len(input_shape) == 3\n",
    "        \n",
    "        self.W = self.add_weight(name='Attention_Weight',\n",
    "                                 shape=(input_shape[-1], input_shape[-1]),\n",
    "                                 initializer=self.init,\n",
    "                                 trainable=True)\n",
    "        self.b = self.add_weight(name='Attention_Bias',\n",
    "                                 shape=(input_shape[-1], ),\n",
    "                                 initializer=self.init,\n",
    "                                 trainable=True)\n",
    "        self.u = self.add_weight(name='Attention_Context_Vector',\n",
    "                                 shape=(input_shape[-1], 1),\n",
    "                                 initializer=self.init,\n",
    "                                 trainable=True)\n",
    "        super(AttentionLayer, self).build(input_shape)\n",
    "\n",
    "    def compute_mask(self, input, input_mask=None):\n",
    "        # do not pass the mask to the next layers\n",
    "        return None\n",
    "    \n",
    "    def call(self, x):\n",
    "        # refer to the original paper\n",
    "        # link: https://www.cs.cmu.edu/~hovy/papers/16HLT-hierarchical-attention-networks.pdf\n",
    "        \n",
    "        # RNN 구조를 거쳐서 나온 hidden states (x)에 single layer perceptron (tanh activation)\n",
    "        # 적용하여 나온 벡터가 uit \n",
    "        u_it = K.tanh(K.dot(x, self.W) + self.b)\n",
    "        \n",
    "        # uit와 uw (혹은 us) 간의 similarity를 attention으로 사용\n",
    "        # softmax를 통해 attention 값을 확률 분포로 만듬\n",
    "        a_it = K.dot(u_it, self.u)\n",
    "        a_it = K.squeeze(a_it, -1)\n",
    "        a_it = K.softmax(a_it)\n",
    "        \n",
    "        return a_it\n",
    "        \n",
    "    def compute_output_shape(self, input_shape):\n",
    "        return (input_shape[0], input_shape[1])"
   ]
  },
  {
   "cell_type": "markdown",
   "metadata": {},
   "source": [
    "# word-level attention 적용하기 (for sentence representation)"
   ]
  },
  {
   "cell_type": "code",
   "execution_count": 15,
   "metadata": {},
   "outputs": [
    {
     "name": "stdout",
     "output_type": "stream",
     "text": [
      "Tensor(\"attention_layer_1/Softmax:0\", shape=(?, 100), dtype=float32)\n"
     ]
    }
   ],
   "source": [
    "# first, build a sentence encoder\n",
    "sentence_input = Input(shape=(MAX_SENT_LENGTH, ), dtype='int32')\n",
    "embedded_sentence = embedding_layer(sentence_input)\n",
    "# [?,?,200]\n",
    "bilstm_sentence = Bidirectional(LSTM(lstm_dim, return_sequences=True))(embedded_sentence)\n",
    "\n",
    "# word attention computation, [?,200]\n",
    "# word_attention = AttentionWithContext()(bilstm_sentence)\n",
    "word_attention = AttentionLayer()(bilstm_sentence)\n",
    "print(word_attention)\n",
    "\n",
    "# word attention application, [?,200, 200]\n",
    "# hidden states의 출력에 맞게 scalar를 반복해 (lstm_dim * 2) 크기로 만듬\n",
    "repeated_word_attention = RepeatVector(lstm_dim * 2)(word_attention)\n",
    "# Permute 레이어를 사용해 Multiply가 가능하도록 차원 수정, 곱하기 위하여\n",
    "# [MAX_SENTENCE_LENGTH, lstm_dim * 2] -> [lstm_dim * 2, MAX_SENTENCE_LENGTH] \n",
    "repeated_word_attention = Permute([2, 1])(repeated_word_attention)\n",
    "\n",
    "# compute sentence representation as the weighted sum of word representations\n",
    "# 곱하고\n",
    "sentence_representation = Multiply()([bilstm_sentence, repeated_word_attention])\n",
    "# weighted-sum과정, weighting 해주고 summation, 펼쳐서 수행\n",
    "sentence_representation = Lambda(lambda x: K.sum(x, axis=1))(sentence_representation)"
   ]
  },
  {
   "cell_type": "markdown",
   "metadata": {},
   "source": [
    "# sentence-attention 적용하기 (for document representation)"
   ]
  },
  {
   "cell_type": "code",
   "execution_count": 16,
   "metadata": {},
   "outputs": [],
   "source": [
    "sentence_encoder = Model(inputs=[sentence_input], \n",
    "                         outputs=[sentence_representation])\n",
    "\n",
    "# then, build a document encoder\n",
    "document_input = Input(shape=(MAX_SENTS, MAX_SENT_LENGTH), dtype='int32')\n",
    "# 입력이 document_input 이므로, sentence 입력으로 바꾸기 위하여\n",
    "embedded_document = TimeDistributed(sentence_encoder)(document_input)\n",
    "bilstm_document = Bidirectional(LSTM(lstm_dim, return_sequences=True))(embedded_document)\n",
    "\n",
    "# sentence attention computation\n",
    "sentence_attention = AttentionLayer()(bilstm_document)\n",
    "\n",
    "# sentence attention application\n",
    "repeated_sentence_attention = RepeatVector(lstm_dim * 2)(sentence_attention)\n",
    "repeated_sentence_attention = Permute([2, 1])(repeated_sentence_attention)\n",
    "\n",
    "# compute document representation as the weighted sum of sentence representations\n",
    "document_representation = Multiply()([bilstm_document, repeated_sentence_attention])\n",
    "document_representation = Lambda(lambda x: K.sum(x, axis=1))(document_representation)"
   ]
  },
  {
   "cell_type": "markdown",
   "metadata": {},
   "source": [
    "# sentiment classification 하기"
   ]
  },
  {
   "cell_type": "code",
   "execution_count": 17,
   "metadata": {},
   "outputs": [],
   "source": [
    "# finally, add fc layers for classification\n",
    "hidden = BatchNormalization()(document_representation)\n",
    "hidden = Dense(dense_dim)(hidden)\n",
    "hidden = LeakyReLU(alpha=0.1)(hidden)\n",
    "hidden = Dropout(dense_dropout)(hidden)\n",
    "hidden = BatchNormalization()(document_representation)\n",
    "hidden = Dense(dense_dim)(hidden)\n",
    "hidden = LeakyReLU(alpha=0.1)(hidden)\n",
    "hidden = Dropout(dense_dropout)(hidden)\n",
    "\n",
    "pred_sentiment = Dense(nb_classes, activation='softmax')(hidden)\n",
    "\n",
    "model = Model(inputs=[document_input],\n",
    "            outputs=[pred_sentiment])\n",
    "\n",
    "# compile\n",
    "if   Learning_Rate_Mode == 'SGD':\n",
    "    opt = SGD(lr=Learning_Rate, momentum=0.9, decay=1e-6)\n",
    "elif Learning_Rate_Mode == 'Amsgrad':\n",
    "    opt = Adam(lr=Learning_Rate, amsgrad=True)\n",
    "elif Learning_Rate_Mode == 'Adam':\n",
    "    opt = Adam(lr=Learning_Rate)\n",
    "elif Learning_Rate_Mode == 'Adadelta':    \n",
    "    opt = Adadelta(lr=Learning_Rate)\n",
    "    \n",
    "model.compile(loss='categorical_crossentropy',\n",
    "              optimizer=opt,\n",
    "              metrics=['accuracy'])"
   ]
  },
  {
   "cell_type": "code",
   "execution_count": 18,
   "metadata": {},
   "outputs": [
    {
     "name": "stdout",
     "output_type": "stream",
     "text": [
      "__________________________________________________________________________________________________\n",
      "Layer (type)                    Output Shape         Param #     Connected to                     \n",
      "==================================================================================================\n",
      "input_1 (InputLayer)            (None, 100)          0                                            \n",
      "__________________________________________________________________________________________________\n",
      "embedding_1 (Embedding)         (None, 100, 200)     20610400    input_1[0][0]                    \n",
      "__________________________________________________________________________________________________\n",
      "bidirectional_1 (Bidirectional) (None, 100, 200)     240800      embedding_1[0][0]                \n",
      "__________________________________________________________________________________________________\n",
      "attention_layer_1 (AttentionLay (None, 100)          40400       bidirectional_1[0][0]            \n",
      "__________________________________________________________________________________________________\n",
      "repeat_vector_1 (RepeatVector)  (None, 200, 100)     0           attention_layer_1[0][0]          \n",
      "__________________________________________________________________________________________________\n",
      "permute_1 (Permute)             (None, 100, 200)     0           repeat_vector_1[0][0]            \n",
      "__________________________________________________________________________________________________\n",
      "multiply_1 (Multiply)           (None, 100, 200)     0           bidirectional_1[0][0]            \n",
      "                                                                 permute_1[0][0]                  \n",
      "__________________________________________________________________________________________________\n",
      "lambda_1 (Lambda)               (None, 200)          0           multiply_1[0][0]                 \n",
      "==================================================================================================\n",
      "Total params: 20,891,600\n",
      "Trainable params: 20,891,600\n",
      "Non-trainable params: 0\n",
      "__________________________________________________________________________________________________\n"
     ]
    }
   ],
   "source": [
    "sentence_encoder.summary()"
   ]
  },
  {
   "cell_type": "code",
   "execution_count": 19,
   "metadata": {},
   "outputs": [
    {
     "name": "stdout",
     "output_type": "stream",
     "text": [
      "__________________________________________________________________________________________________\n",
      "Layer (type)                    Output Shape         Param #     Connected to                     \n",
      "==================================================================================================\n",
      "input_2 (InputLayer)            (None, 15, 100)      0                                            \n",
      "__________________________________________________________________________________________________\n",
      "time_distributed_1 (TimeDistrib (None, 15, 200)      20891600    input_2[0][0]                    \n",
      "__________________________________________________________________________________________________\n",
      "bidirectional_2 (Bidirectional) (None, 15, 200)      240800      time_distributed_1[0][0]         \n",
      "__________________________________________________________________________________________________\n",
      "attention_layer_2 (AttentionLay (None, 15)           40400       bidirectional_2[0][0]            \n",
      "__________________________________________________________________________________________________\n",
      "repeat_vector_2 (RepeatVector)  (None, 200, 15)      0           attention_layer_2[0][0]          \n",
      "__________________________________________________________________________________________________\n",
      "permute_2 (Permute)             (None, 15, 200)      0           repeat_vector_2[0][0]            \n",
      "__________________________________________________________________________________________________\n",
      "multiply_2 (Multiply)           (None, 15, 200)      0           bidirectional_2[0][0]            \n",
      "                                                                 permute_2[0][0]                  \n",
      "__________________________________________________________________________________________________\n",
      "lambda_2 (Lambda)               (None, 200)          0           multiply_2[0][0]                 \n",
      "__________________________________________________________________________________________________\n",
      "batch_normalization_2 (BatchNor (None, 200)          800         lambda_2[0][0]                   \n",
      "__________________________________________________________________________________________________\n",
      "dense_2 (Dense)                 (None, 20)           4020        batch_normalization_2[0][0]      \n",
      "__________________________________________________________________________________________________\n",
      "leaky_re_lu_2 (LeakyReLU)       (None, 20)           0           dense_2[0][0]                    \n",
      "__________________________________________________________________________________________________\n",
      "dropout_2 (Dropout)             (None, 20)           0           leaky_re_lu_2[0][0]              \n",
      "__________________________________________________________________________________________________\n",
      "dense_3 (Dense)                 (None, 2)            42          dropout_2[0][0]                  \n",
      "==================================================================================================\n",
      "Total params: 21,177,662\n",
      "Trainable params: 21,177,262\n",
      "Non-trainable params: 400\n",
      "__________________________________________________________________________________________________\n"
     ]
    }
   ],
   "source": [
    "model.summary()"
   ]
  },
  {
   "cell_type": "code",
   "execution_count": 20,
   "metadata": {},
   "outputs": [],
   "source": [
    "ck_dir = 'models/'\n",
    "os.makedirs(ck_dir, exist_ok=True)\n",
    "ck_path = ck_dir + 'model.h5'\n",
    "\n",
    "checkpoint = ModelCheckpoint(ck_path,\n",
    "                             monitor='val_acc',\n",
    "                             verbose=0,\n",
    "                             save_best_only=True,\n",
    "                             mode='min')\n",
    "early_stopping = EarlyStopping(patience = 4)"
   ]
  },
  {
   "cell_type": "code",
   "execution_count": 21,
   "metadata": {},
   "outputs": [
    {
     "name": "stdout",
     "output_type": "stream",
     "text": [
      "model fitting - Hierachical attention network\n"
     ]
    },
    {
     "name": "stderr",
     "output_type": "stream",
     "text": [
      "/home/go/anaconda3/envs/venv/lib/python3.6/site-packages/ipykernel_launcher.py:9: UserWarning: The `nb_epoch` argument in `fit` has been renamed `epochs`.\n",
      "  if __name__ == '__main__':\n"
     ]
    },
    {
     "name": "stdout",
     "output_type": "stream",
     "text": [
      "Train on 20000 samples, validate on 5000 samples\n",
      "Epoch 1/20\n",
      "20000/20000 [==============================] - 172s 9ms/step - loss: 0.3875 - acc: 0.8246 - val_loss: 0.3107 - val_acc: 0.8736\n",
      "Epoch 2/20\n",
      "20000/20000 [==============================] - 167s 8ms/step - loss: 0.2282 - acc: 0.9105 - val_loss: 0.3073 - val_acc: 0.8816\n",
      "Epoch 3/20\n",
      "20000/20000 [==============================] - 166s 8ms/step - loss: 0.1327 - acc: 0.9520 - val_loss: 0.3178 - val_acc: 0.8764\n",
      "Epoch 4/20\n",
      "20000/20000 [==============================] - 167s 8ms/step - loss: 0.0686 - acc: 0.9760 - val_loss: 0.4548 - val_acc: 0.8582\n",
      "Epoch 5/20\n",
      "20000/20000 [==============================] - 167s 8ms/step - loss: 0.0326 - acc: 0.9891 - val_loss: 0.5834 - val_acc: 0.8790\n",
      "Epoch 6/20\n",
      "20000/20000 [==============================] - 164s 8ms/step - loss: 0.0251 - acc: 0.9905 - val_loss: 0.6798 - val_acc: 0.8718\n"
     ]
    }
   ],
   "source": [
    "epoch = 20\n",
    "\n",
    "print(\"model fitting - Hierachical attention network\")\n",
    "hist = model.fit( x_train, y_train, \n",
    "                  nb_epoch=epoch, \n",
    "                  batch_size=batch_size,\n",
    "                  shuffle=True,\n",
    "                  callbacks=[checkpoint, early_stopping],\n",
    "                  validation_data=(x_val, y_val)\n",
    "                 )"
   ]
  },
  {
   "cell_type": "code",
   "execution_count": 22,
   "metadata": {},
   "outputs": [
    {
     "data": {
      "image/png": "[encoded data removed]",
      "text/plain": [
       "<Figure size 432x288 with 2 Axes>"
      ]
     },
     "metadata": {
      "needs_background": "light"
     },
     "output_type": "display_data"
    }
   ],
   "source": [
    "# 5. 모델 학습 과정 표시하기\n",
    "%matplotlib inline\n",
    "import matplotlib.pyplot as plt\n",
    "\n",
    "fig, loss_ax = plt.subplots()\n",
    "\n",
    "acc_ax = loss_ax.twinx()\n",
    "\n",
    "loss_ax.plot(hist.history['loss'], 'y', label='train loss')\n",
    "loss_ax.plot(hist.history['val_loss'], 'r', label='val loss')\n",
    "\n",
    "acc_ax.plot(hist.history['acc'], 'b', label='train acc')\n",
    "acc_ax.plot(hist.history['val_acc'], 'g', label='val acc')\n",
    "\n",
    "loss_ax.set_xlabel('epoch')\n",
    "loss_ax.set_ylabel('loss')\n",
    "acc_ax.set_ylabel('accuray')\n",
    "\n",
    "loss_ax.legend(loc='upper left')\n",
    "acc_ax.legend(loc='lower left')\n",
    "\n",
    "plt.show()"
   ]
  },
  {
   "cell_type": "markdown",
   "metadata": {},
   "source": [
    "# attention 시각화하기\n",
    "HAN에서는 word-level attention과 sentence-level attention이 함께 쓰입니다. 이 attention들을 분석"
   ]
  },
  {
   "cell_type": "code",
   "execution_count": 23,
   "metadata": {},
   "outputs": [],
   "source": [
    "# 입력 넛고, word_attention layer 출력, 근데 입력이 document 므로, TimeDistributed로 만들기\n",
    "word_attention_extractor = Model(inputs=[sentence_input],\n",
    "                                 outputs=[word_attention])\n",
    "\n",
    "word_attentions = TimeDistributed(word_attention_extractor)(document_input)\n",
    "\n",
    "# doc 입력으로 단어레벨, 문장레벨 어텐션 뽑기\n",
    "attention_extractor = Model(inputs=[document_input],\n",
    "                            outputs=[word_attentions, sentence_attention])\n",
    "# (N, 15, 100)\n",
    "attention_expamle = attention_extractor.predict(x_val[:3])"
   ]
  },
  {
   "cell_type": "markdown",
   "metadata": {},
   "source": [
    "# word attention visualization"
   ]
  },
  {
   "cell_type": "code",
   "execution_count": 24,
   "metadata": {},
   "outputs": [
    {
     "name": "stdout",
     "output_type": "stream",
     "text": [
      "Sentence attention visualize\n",
      "\n",
      "0.41 : \u001b[48;5;160m\u001b[1mD\u001b[0m\u001b[48;5;160m\u001b[1me\u001b[0m\u001b[48;5;160m\u001b[1ml\u001b[0m\u001b[48;5;160m\u001b[1mi\u001b[0m\u001b[48;5;160m\u001b[1mc\u001b[0m\u001b[48;5;160m\u001b[1mi\u001b[0m\u001b[48;5;160m\u001b[1mo\u001b[0m\u001b[48;5;160m\u001b[1mu\u001b[0m\u001b[48;5;160m\u001b[1ms\u001b[0m\u001b[48;5;160m\u001b[1m \u001b[0m\u001b[48;5;160m\u001b[1mh\u001b[0m\u001b[48;5;160m\u001b[1me\u001b[0m\u001b[48;5;160m\u001b[1ma\u001b[0m\u001b[48;5;160m\u001b[1ml\u001b[0m\u001b[48;5;160m\u001b[1mt\u001b[0m\u001b[48;5;160m\u001b[1mh\u001b[0m\u001b[48;5;160m\u001b[1my\u001b[0m\u001b[48;5;160m\u001b[1m \u001b[0m\u001b[48;5;160m\u001b[1mf\u001b[0m\u001b[48;5;160m\u001b[1mo\u001b[0m\u001b[48;5;160m\u001b[1mo\u001b[0m\u001b[48;5;160m\u001b[1md\u001b[0m\u001b[48;5;160m\u001b[1m.\u001b[0m\n",
      "0.28 : \u001b[48;5;210m\u001b[1mT\u001b[0m\u001b[48;5;210m\u001b[1mh\u001b[0m\u001b[48;5;210m\u001b[1me\u001b[0m\u001b[48;5;210m\u001b[1m \u001b[0m\u001b[48;5;210m\u001b[1ms\u001b[0m\u001b[48;5;210m\u001b[1mt\u001b[0m\u001b[48;5;210m\u001b[1me\u001b[0m\u001b[48;5;210m\u001b[1ma\u001b[0m\u001b[48;5;210m\u001b[1mk\u001b[0m\u001b[48;5;210m\u001b[1m \u001b[0m\u001b[48;5;210m\u001b[1mi\u001b[0m\u001b[48;5;210m\u001b[1ms\u001b[0m\u001b[48;5;210m\u001b[1m \u001b[0m\u001b[48;5;210m\u001b[1ma\u001b[0m\u001b[48;5;210m\u001b[1mm\u001b[0m\u001b[48;5;210m\u001b[1ma\u001b[0m\u001b[48;5;210m\u001b[1mz\u001b[0m\u001b[48;5;210m\u001b[1mi\u001b[0m\u001b[48;5;210m\u001b[1mn\u001b[0m\u001b[48;5;210m\u001b[1mg\u001b[0m\u001b[48;5;210m\u001b[1m.\u001b[0m\n",
      "0.14 : \u001b[48;5;224m\u001b[1mF\u001b[0m\u001b[48;5;224m\u001b[1mi\u001b[0m\u001b[48;5;224m\u001b[1ms\u001b[0m\u001b[48;5;224m\u001b[1mh\u001b[0m\u001b[48;5;224m\u001b[1m \u001b[0m\u001b[48;5;224m\u001b[1ma\u001b[0m\u001b[48;5;224m\u001b[1mn\u001b[0m\u001b[48;5;224m\u001b[1md\u001b[0m\u001b[48;5;224m\u001b[1m \u001b[0m\u001b[48;5;224m\u001b[1mp\u001b[0m\u001b[48;5;224m\u001b[1mo\u001b[0m\u001b[48;5;224m\u001b[1mr\u001b[0m\u001b[48;5;224m\u001b[1mk\u001b[0m\u001b[48;5;224m\u001b[1m \u001b[0m\u001b[48;5;224m\u001b[1ma\u001b[0m\u001b[48;5;224m\u001b[1mr\u001b[0m\u001b[48;5;224m\u001b[1me\u001b[0m\u001b[48;5;224m\u001b[1m \u001b[0m\u001b[48;5;224m\u001b[1ma\u001b[0m\u001b[48;5;224m\u001b[1mw\u001b[0m\u001b[48;5;224m\u001b[1me\u001b[0m\u001b[48;5;224m\u001b[1ms\u001b[0m\u001b[48;5;224m\u001b[1mo\u001b[0m\u001b[48;5;224m\u001b[1mm\u001b[0m\u001b[48;5;224m\u001b[1me\u001b[0m\u001b[48;5;224m\u001b[1m \u001b[0m\u001b[48;5;224m\u001b[1mt\u001b[0m\u001b[48;5;224m\u001b[1mo\u001b[0m\u001b[48;5;224m\u001b[1mo\u001b[0m\u001b[48;5;224m\u001b[1m.\u001b[0m\n",
      "0.07 : \u001b[48;5;225m\u001b[1mS\u001b[0m\u001b[48;5;225m\u001b[1me\u001b[0m\u001b[48;5;225m\u001b[1mr\u001b[0m\u001b[48;5;225m\u001b[1mv\u001b[0m\u001b[48;5;225m\u001b[1mi\u001b[0m\u001b[48;5;225m\u001b[1mc\u001b[0m\u001b[48;5;225m\u001b[1me\u001b[0m\u001b[48;5;225m\u001b[1m \u001b[0m\u001b[48;5;225m\u001b[1mi\u001b[0m\u001b[48;5;225m\u001b[1ms\u001b[0m\u001b[48;5;225m\u001b[1m \u001b[0m\u001b[48;5;225m\u001b[1ma\u001b[0m\u001b[48;5;225m\u001b[1mb\u001b[0m\u001b[48;5;225m\u001b[1mo\u001b[0m\u001b[48;5;225m\u001b[1mv\u001b[0m\u001b[48;5;225m\u001b[1me\u001b[0m\u001b[48;5;225m\u001b[1m \u001b[0m\u001b[48;5;225m\u001b[1ma\u001b[0m\u001b[48;5;225m\u001b[1mn\u001b[0m\u001b[48;5;225m\u001b[1md\u001b[0m\u001b[48;5;225m\u001b[1m \u001b[0m\u001b[48;5;225m\u001b[1mb\u001b[0m\u001b[48;5;225m\u001b[1me\u001b[0m\u001b[48;5;225m\u001b[1my\u001b[0m\u001b[48;5;225m\u001b[1mo\u001b[0m\u001b[48;5;225m\u001b[1mn\u001b[0m\u001b[48;5;225m\u001b[1md\u001b[0m\u001b[48;5;225m\u001b[1m.\u001b[0m\n",
      "0.05 : \u001b[48;5;225m\u001b[1mN\u001b[0m\u001b[48;5;225m\u001b[1mo\u001b[0m\u001b[48;5;225m\u001b[1mt\u001b[0m\u001b[48;5;225m\u001b[1m \u001b[0m\u001b[48;5;225m\u001b[1ma\u001b[0m\u001b[48;5;225m\u001b[1m \u001b[0m\u001b[48;5;225m\u001b[1mb\u001b[0m\u001b[48;5;225m\u001b[1ma\u001b[0m\u001b[48;5;225m\u001b[1md\u001b[0m\u001b[48;5;225m\u001b[1m \u001b[0m\u001b[48;5;225m\u001b[1mt\u001b[0m\u001b[48;5;225m\u001b[1mh\u001b[0m\u001b[48;5;225m\u001b[1mi\u001b[0m\u001b[48;5;225m\u001b[1mn\u001b[0m\u001b[48;5;225m\u001b[1mg\u001b[0m\u001b[48;5;225m\u001b[1m \u001b[0m\u001b[48;5;225m\u001b[1mt\u001b[0m\u001b[48;5;225m\u001b[1mo\u001b[0m\u001b[48;5;225m\u001b[1m \u001b[0m\u001b[48;5;225m\u001b[1ms\u001b[0m\u001b[48;5;225m\u001b[1ma\u001b[0m\u001b[48;5;225m\u001b[1my\u001b[0m\u001b[48;5;225m\u001b[1m \u001b[0m\u001b[48;5;225m\u001b[1ma\u001b[0m\u001b[48;5;225m\u001b[1mb\u001b[0m\u001b[48;5;225m\u001b[1mo\u001b[0m\u001b[48;5;225m\u001b[1mu\u001b[0m\u001b[48;5;225m\u001b[1mt\u001b[0m\u001b[48;5;225m\u001b[1m \u001b[0m\u001b[48;5;225m\u001b[1mt\u001b[0m\u001b[48;5;225m\u001b[1mh\u001b[0m\u001b[48;5;225m\u001b[1mi\u001b[0m\u001b[48;5;225m\u001b[1ms\u001b[0m\u001b[48;5;225m\u001b[1m \u001b[0m\u001b[48;5;225m\u001b[1mp\u001b[0m\u001b[48;5;225m\u001b[1ml\u001b[0m\u001b[48;5;225m\u001b[1ma\u001b[0m\u001b[48;5;225m\u001b[1mc\u001b[0m\u001b[48;5;225m\u001b[1me\u001b[0m\u001b[48;5;225m\u001b[1m.\u001b[0m\n",
      "0.05 : Worth every penny!\n",
      "\n",
      "word attention visualize\n",
      "\n",
      "\u001b[48;5;160m\u001b[1mdelicious\u001b[0m \u001b[48;5;217m\u001b[1mhealthy\u001b[0m food \n",
      "\u001b[48;5;225m\u001b[1mthe\u001b[0m steak \u001b[48;5;225m\u001b[1mis\u001b[0m \u001b[48;5;160m\u001b[1mamazing\u001b[0m \n",
      "\u001b[48;5;225m\u001b[1mfish\u001b[0m \u001b[48;5;225m\u001b[1mand\u001b[0m pork \u001b[48;5;225m\u001b[1mare\u001b[0m \u001b[48;5;160m\u001b[1mawesome\u001b[0m \u001b[48;5;225m\u001b[1mtoo\u001b[0m \n",
      "\u001b[48;5;160m\u001b[1mservice\u001b[0m \u001b[48;5;224m\u001b[1mis\u001b[0m \u001b[48;5;210m\u001b[1mabove\u001b[0m and \u001b[48;5;225m\u001b[1mbeyond\u001b[0m \n",
      "\u001b[48;5;225m\u001b[1mnot\u001b[0m \u001b[48;5;225m\u001b[1ma\u001b[0m \u001b[48;5;210m\u001b[1mbad\u001b[0m \u001b[48;5;225m\u001b[1mthing\u001b[0m \u001b[48;5;225m\u001b[1mto\u001b[0m say \u001b[48;5;225m\u001b[1mabout\u001b[0m \u001b[48;5;160m\u001b[1mthis\u001b[0m \u001b[48;5;160m\u001b[1mplace\u001b[0m \n",
      "worth \u001b[48;5;160m\u001b[1mevery\u001b[0m \u001b[48;5;217m\u001b[1mpenny\u001b[0m \n"
     ]
    }
   ],
   "source": [
    "word_rev_index = {}\n",
    "for word, i in tokenizer.word_index.items():\n",
    "    word_rev_index[i] = word\n",
    "\n",
    "def sentiment_analysis(review): \n",
    "    sentences = tokenize.sent_tokenize(review)  # 문단->문장단위로 자르기\n",
    "    tokenized_sentences = tokenizer.texts_to_sequences(sentences)  # 벡터화\n",
    "    tokenized_sentences = pad_sequences(tokenized_sentences, maxlen=MAX_SENT_LENGTH) # 문장 최대길이로 제로패딩, 앞쪽으로 0이 붙는다\n",
    "    pad_size = MAX_SENTS - tokenized_sentences.shape[0]  # 15 - 6 = 9, 문장단위로는 9번 패딩해야한다\n",
    "\n",
    "    # tokenized_sentences : [15 , 100]\n",
    "    if pad_size <= 0:\n",
    "        tokenized_sentences = tokenized_sentences[:MAX_SENTS]  # 최대 문장수보다 크면 MAX_SENTS 만큼 자르고\n",
    "    else:\n",
    "        tokenized_sentences = np.pad(\n",
    "            tokenized_sentences, ((0, pad_size), (0, 0)),\n",
    "            mode='constant', constant_values=0\n",
    "        )  # 그렇지 않으면 죄다 0으로 패딩\n",
    "\n",
    "    # 단어기준, 문장기준 어텐션 가져오기, np.asarray를 이용해서 list를 np array로 만들어서 너어준다\n",
    "    pred_word_attention    = attention_extractor.predict(np.asarray([tokenized_sentences]))[0]  # [0] : word attention만 가져오기, (1, 15, 100)\n",
    "    pred_sentence_attention= attention_extractor.predict(np.asarray([tokenized_sentences]))[1]  # [1] : sentence attention만 가져오기, (1, 15)\n",
    "\n",
    "    # 문장단위 어탠션 nomalize, [0.30764675, 0.27119225, 0.17760307, 0.11542551, 0.07580608, 0.05232629]\n",
    "    real_sentence_attention = pred_sentence_attention[0][:-pad_size]\n",
    "    real_sentence_attention = real_sentence_attention / (np.sum(real_sentence_attention))  # normalize\n",
    "    real_sentence_attention\n",
    "    # 문장단위 어텐션 visualize\n",
    "    print('Sentence attention visualize\\n')\n",
    "    for i, sentence in enumerate(sentences):\n",
    "        print(round(real_sentence_attention[i],2),': ' , end='')\n",
    "        for j in sentence:\n",
    "            highlight_normalize(j, real_sentence_attention[i], np.min(real_sentence_attention), np.max(real_sentence_attention) )\n",
    "        print()\n",
    "\n",
    "    # 단어단위 어텐션 visualize\n",
    "    print('\\nword attention visualize\\n')\n",
    "    for i, sentence in enumerate(tokenized_sentences[:-pad_size]):\n",
    "        # word_rev_index로 idx -> 실제 단어, 0제외\n",
    "        words = [word_rev_index[word_id] for word_id in sentence if word_id != 0][:50]\n",
    "        pred_att = np.asarray(pred_word_attention[0][i][::-1][:len(words)][::-1])  # [::-1]로 순서 뒤집고, 단어수만큼만 짜르고, 다시 순서 뒤집어서 단어만 나오도록\n",
    "\n",
    "        for j, word in enumerate(words):\n",
    "            highlight_normalize(word, pred_att[j], np.min(pred_att), np.max(pred_att))\n",
    "            print(' ',end='')\n",
    "        print()\n",
    "# heatmap 방식으로 visualize   \n",
    "#     for i, sentence in enumerate(tokenized_sentences[:-pad_size]):\n",
    "#     # word_rev_index로 idx -> 실제 단어, 0제외\n",
    "#     words = [word_rev_index[word_id] for word_id in sentence if word_id != 0][:50]\n",
    "#     pred_att = np.asarray(pred_word_attention[0][i][::-1][:len(words)][::-1])  # [::-1]로 순서 뒤집고, 단어수만큼만 짜르고, 다시 순서 뒤집어서 단어만 나오도록\n",
    "#     pred_att = np.expand_dims(pred_att, axis=0)  # [[0.01076243 0.01147179 0.0133635  0.03013644]], array 한겹 더 씌우기\n",
    "#     fig, ax = plt.subplots(figsize=(len(words), 2))\n",
    "#     plt.rc('xtick', labelsize=15)\n",
    "#     heatmap = sn.heatmap(pred_att, xticklabels=words, square=True, linewidths=5, cmap=\"Blues\", cbar=False)\n",
    "#     plt.xticks(rotation=0)\n",
    "#     plt.show()    \n",
    "sentiment_analysis(\"Delicious healthy food. The steak is amazing. Fish and pork are awesome too. Service is above and beyond. Not a bad thing to say about this place. Worth every penny!\")"
   ]
  },
  {
   "cell_type": "code",
   "execution_count": 124,
   "metadata": {},
   "outputs": [],
   "source": [
    "## !! 차원이안맞는다!! y_val 이 [2,2] 니까 확인하자\n",
    "\n",
    "# F1 score & confusion matrix 구하기 위해서 [1,0] -> [True] 식으로 변환\n",
    "from sklearn.metrics import f1_score, confusion_matrix\n",
    "prediction = model.predict(x_val)\n",
    "y_val = y_val\n",
    "y_pred = (prediction > 0.5)\n",
    "y_val_temp = (y_val > 0.5)\n",
    "\n",
    "y_pred = []\n",
    "for i in range(len(prediction)):\n",
    "    if prediction[i][1] > 0.5:\n",
    "        y_pred.append(True)\n",
    "    else:\n",
    "        y_pred.append(False)\n",
    "        \n",
    "y_val_temp = []\n",
    "for i in range(len(y_val)):\n",
    "    if y_val[i][1] == 1:\n",
    "        y_val_temp.append(True)\n",
    "    else:\n",
    "        y_val_temp.append(False)\n",
    "        \n",
    "print('F1-score: {0}'.format(f1_score(y_pred, y_val_temp)))\n",
    "print('Confusion matrix:')\n",
    "confusion_matrix(y_pred, y_val_temp)"
   ]
  },
  {
   "cell_type": "code",
   "execution_count": 120,
   "metadata": {},
   "outputs": [
    {
     "ename": "ValueError",
     "evalue": "The truth value of an array with more than one element is ambiguous. Use a.any() or a.all()",
     "output_type": "error",
     "traceback": [
      "\u001b[0;31m---------------------------------------------------------------------------\u001b[0m",
      "\u001b[0;31mValueError\u001b[0m                                Traceback (most recent call last)",
      "\u001b[0;32m<ipython-input-120-49971ffe0477>\u001b[0m in \u001b[0;36m<module>\u001b[0;34m\u001b[0m\n\u001b[1;32m      1\u001b[0m \u001b[0my_val_temp\u001b[0m \u001b[0;34m=\u001b[0m \u001b[0;34m[\u001b[0m\u001b[0;34m]\u001b[0m\u001b[0;34m\u001b[0m\u001b[0m\n\u001b[1;32m      2\u001b[0m \u001b[0;32mfor\u001b[0m \u001b[0mi\u001b[0m \u001b[0;32min\u001b[0m \u001b[0mrange\u001b[0m\u001b[0;34m(\u001b[0m\u001b[0mlen\u001b[0m\u001b[0;34m(\u001b[0m\u001b[0my_val\u001b[0m\u001b[0;34m)\u001b[0m\u001b[0;34m)\u001b[0m\u001b[0;34m:\u001b[0m\u001b[0;34m\u001b[0m\u001b[0m\n\u001b[0;32m----> 3\u001b[0;31m     \u001b[0;32mif\u001b[0m \u001b[0my_val\u001b[0m\u001b[0;34m[\u001b[0m\u001b[0mi\u001b[0m\u001b[0;34m]\u001b[0m\u001b[0;34m[\u001b[0m\u001b[0;36m1\u001b[0m\u001b[0;34m]\u001b[0m \u001b[0;34m==\u001b[0m \u001b[0;36m1\u001b[0m\u001b[0;34m:\u001b[0m\u001b[0;34m\u001b[0m\u001b[0m\n\u001b[0m\u001b[1;32m      4\u001b[0m         \u001b[0my_val_temp\u001b[0m\u001b[0;34m.\u001b[0m\u001b[0mappend\u001b[0m\u001b[0;34m(\u001b[0m\u001b[0;32mTrue\u001b[0m\u001b[0;34m)\u001b[0m\u001b[0;34m\u001b[0m\u001b[0m\n\u001b[1;32m      5\u001b[0m     \u001b[0;32melse\u001b[0m\u001b[0;34m:\u001b[0m\u001b[0;34m\u001b[0m\u001b[0m\n",
      "\u001b[0;31mValueError\u001b[0m: The truth value of an array with more than one element is ambiguous. Use a.any() or a.all()"
     ]
    }
   ],
   "source": []
  },
  {
   "cell_type": "code",
   "execution_count": null,
   "metadata": {},
   "outputs": [],
   "source": []
  },
  {
   "cell_type": "code",
   "execution_count": null,
   "metadata": {},
   "outputs": [],
   "source": []
  },
  {
   "cell_type": "code",
   "execution_count": null,
   "metadata": {},
   "outputs": [],
   "source": []
  },
  {
   "cell_type": "code",
   "execution_count": null,
   "metadata": {},
   "outputs": [],
   "source": []
  }
 ],
 "metadata": {
  "kernelspec": {
   "display_name": "Python 3",
   "language": "python",
   "name": "python3"
  },
  "language_info": {
   "codemirror_mode": {
    "name": "ipython",
    "version": 3
   },
   "file_extension": ".py",
   "mimetype": "text/x-python",
   "name": "python",
   "nbconvert_exporter": "python",
   "pygments_lexer": "ipython3",
   "version": "3.6.6"
  }
 },
 "nbformat": 4,
 "nbformat_minor": 2
}
