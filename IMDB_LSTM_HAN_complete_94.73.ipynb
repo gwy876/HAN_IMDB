{
 "cells": [
  {
   "cell_type": "markdown",
   "metadata": {},
   "source": [
    "# IMDB_LSTM_HAN_complete - 94.73%\n",
    "- 181204"
   ]
  },
  {
   "cell_type": "code",
   "execution_count": 1,
   "metadata": {},
   "outputs": [],
   "source": [
    "# data : imdb unzip하여 다운\n",
    "# wget https://www.kaggle.com/c/word2vec-nlp-tutorial/download/labeledTrainData.tsv\n",
    "# 이름바꾸고 unzip\n",
    "\n",
    "# HAN 코드 출처\n",
    "# https://www.kaggle.com/sermakarevich/hierarchical-attention-network/comments\n",
    "# https://richliao.github.io/supervised/classification/2016/12/26/textclassifier-HATN/"
   ]
  },
  {
   "cell_type": "code",
   "execution_count": 2,
   "metadata": {},
   "outputs": [
    {
     "name": "stderr",
     "output_type": "stream",
     "text": [
      "Using TensorFlow backend.\n"
     ]
    }
   ],
   "source": [
    "import numpy as np\n",
    "import pandas as pd\n",
    "import pickle\n",
    "from collections import defaultdict\n",
    "import re\n",
    "\n",
    "from bs4 import BeautifulSoup\n",
    "\n",
    "import sys\n",
    "import os\n",
    "from nltk import tokenize\n",
    "\n",
    "from keras.preprocessing.text import Tokenizer, text_to_word_sequence\n",
    "from keras.preprocessing.sequence import pad_sequences\n",
    "from keras.utils.np_utils import to_categorical\n",
    "\n",
    "from keras.layers import Embedding, RepeatVector, Permute, Multiply, Lambda, BatchNormalization, LeakyReLU\n",
    "from keras.layers import Dense, Input, Flatten\n",
    "from keras.layers import Conv1D, MaxPooling1D, Embedding, merge, Dropout, LSTM, CuDNNLSTM, GRU, Bidirectional, TimeDistributed\n",
    "from keras.models import Model\n",
    "from keras.callbacks import EarlyStopping, LearningRateScheduler, Callback, ModelCheckpoint\n",
    "\n",
    "from keras.optimizers import Adam, Adadelta, SGD\n",
    "\n",
    "\n",
    "from keras import backend as K\n",
    "from keras.engine.topology import Layer, InputSpec\n",
    "from keras import initializers\n",
    "\n",
    "from tqdm import tqdm\n",
    "import math\n",
    "from matplotlib import pyplot as plt\n",
    "import seaborn as sn\n",
    "from colored import fg, bg, attr"
   ]
  },
  {
   "cell_type": "code",
   "execution_count": 3,
   "metadata": {},
   "outputs": [],
   "source": [
    "MAX_SENT_LENGTH = 100\n",
    "MAX_SENTS = 15\n",
    "MAX_NB_WORDS = 20000\n",
    "EMBEDDING_DIM = 200\n",
    "VALIDATION_SPLIT = 0.2\n",
    "\n",
    "data_dir = 'data/'\n",
    "os.makedirs(data_dir, exist_ok=True)\n",
    "data1 = 'data/labeledTrainData.tsv'\n",
    "data2 = 'data/imdb_master.csv'"
   ]
  },
  {
   "cell_type": "code",
   "execution_count": 4,
   "metadata": {},
   "outputs": [],
   "source": [
    "Learning_Rate = 0.0002\n",
    "\n",
    "# Learning_Rate_Mode = 'SGD'\n",
    "# Learning_Rate_Mode = 'Amsgrad'\n",
    "Learning_Rate_Mode = 'Adam'\n",
    "# Learning_Rate_Mode = 'Adadelta'    \n",
    "    \n",
    "    \n",
    "SEQ_LEN = 100  # magic number - length to truncate sequences of words\n",
    "lstm_dim = 100\n",
    "dense_dim = 20\n",
    "dense_dropout = 0.2\n",
    "nb_classes = 2\n",
    "epoch = 10\n",
    "batch_size = 64"
   ]
  },
  {
   "cell_type": "markdown",
   "metadata": {},
   "source": [
    "# imdb data 불러오기 + 데이타 전처리"
   ]
  },
  {
   "cell_type": "code",
   "execution_count": 5,
   "metadata": {},
   "outputs": [
    {
     "name": "stdout",
     "output_type": "stream",
     "text": [
      "(25000, 3)\n"
     ]
    },
    {
     "data": {
      "text/html": [
       "<div>\n",
       "<style scoped>\n",
       "    .dataframe tbody tr th:only-of-type {\n",
       "        vertical-align: middle;\n",
       "    }\n",
       "\n",
       "    .dataframe tbody tr th {\n",
       "        vertical-align: top;\n",
       "    }\n",
       "\n",
       "    .dataframe thead th {\n",
       "        text-align: right;\n",
       "    }\n",
       "</style>\n",
       "<table border=\"1\" class=\"dataframe\">\n",
       "  <thead>\n",
       "    <tr style=\"text-align: right;\">\n",
       "      <th></th>\n",
       "      <th>sentiment</th>\n",
       "      <th>review</th>\n",
       "    </tr>\n",
       "  </thead>\n",
       "  <tbody>\n",
       "    <tr>\n",
       "      <th>0</th>\n",
       "      <td>1</td>\n",
       "      <td>With all this stuff going down at the moment w...</td>\n",
       "    </tr>\n",
       "    <tr>\n",
       "      <th>1</th>\n",
       "      <td>1</td>\n",
       "      <td>\\The Classic War of the Worlds\\\" by Timothy Hi...</td>\n",
       "    </tr>\n",
       "    <tr>\n",
       "      <th>2</th>\n",
       "      <td>0</td>\n",
       "      <td>The film starts with a manager (Nicholas Bell)...</td>\n",
       "    </tr>\n",
       "    <tr>\n",
       "      <th>3</th>\n",
       "      <td>0</td>\n",
       "      <td>It must be assumed that those who praised this...</td>\n",
       "    </tr>\n",
       "    <tr>\n",
       "      <th>4</th>\n",
       "      <td>1</td>\n",
       "      <td>Superbly trashy and wondrously unpretentious 8...</td>\n",
       "    </tr>\n",
       "  </tbody>\n",
       "</table>\n",
       "</div>"
      ],
      "text/plain": [
       "   sentiment                                             review\n",
       "0          1  With all this stuff going down at the moment w...\n",
       "1          1  \\The Classic War of the Worlds\\\" by Timothy Hi...\n",
       "2          0  The film starts with a manager (Nicholas Bell)...\n",
       "3          0  It must be assumed that those who praised this...\n",
       "4          1  Superbly trashy and wondrously unpretentious 8..."
      ]
     },
     "execution_count": 5,
     "metadata": {},
     "output_type": "execute_result"
    }
   ],
   "source": [
    "# imdb 1, labeledTrainData.tsv\n",
    "data_1 = pd.read_csv( data1 , delimiter='\\t')\n",
    "print(data_1.shape)\n",
    "data_1 = data_1.drop(['id'], axis=1)\n",
    "data_1.head()"
   ]
  },
  {
   "cell_type": "code",
   "execution_count": 6,
   "metadata": {},
   "outputs": [
    {
     "data": {
      "text/html": [
       "<div>\n",
       "<style scoped>\n",
       "    .dataframe tbody tr th:only-of-type {\n",
       "        vertical-align: middle;\n",
       "    }\n",
       "\n",
       "    .dataframe tbody tr th {\n",
       "        vertical-align: top;\n",
       "    }\n",
       "\n",
       "    .dataframe thead th {\n",
       "        text-align: right;\n",
       "    }\n",
       "</style>\n",
       "<table border=\"1\" class=\"dataframe\">\n",
       "  <thead>\n",
       "    <tr style=\"text-align: right;\">\n",
       "      <th></th>\n",
       "      <th>review</th>\n",
       "      <th>sentiment</th>\n",
       "    </tr>\n",
       "  </thead>\n",
       "  <tbody>\n",
       "    <tr>\n",
       "      <th>0</th>\n",
       "      <td>Once again Mr. Costner has dragged out a movie...</td>\n",
       "      <td>0</td>\n",
       "    </tr>\n",
       "    <tr>\n",
       "      <th>1</th>\n",
       "      <td>This is an example of why the majority of acti...</td>\n",
       "      <td>0</td>\n",
       "    </tr>\n",
       "    <tr>\n",
       "      <th>2</th>\n",
       "      <td>First of all I hate those moronic rappers, who...</td>\n",
       "      <td>0</td>\n",
       "    </tr>\n",
       "    <tr>\n",
       "      <th>3</th>\n",
       "      <td>Not even the Beatles could write songs everyon...</td>\n",
       "      <td>0</td>\n",
       "    </tr>\n",
       "    <tr>\n",
       "      <th>4</th>\n",
       "      <td>Brass pictures (movies is not a fitting word f...</td>\n",
       "      <td>0</td>\n",
       "    </tr>\n",
       "  </tbody>\n",
       "</table>\n",
       "</div>"
      ],
      "text/plain": [
       "                                              review  sentiment\n",
       "0  Once again Mr. Costner has dragged out a movie...          0\n",
       "1  This is an example of why the majority of acti...          0\n",
       "2  First of all I hate those moronic rappers, who...          0\n",
       "3  Not even the Beatles could write songs everyon...          0\n",
       "4  Brass pictures (movies is not a fitting word f...          0"
      ]
     },
     "execution_count": 6,
     "metadata": {},
     "output_type": "execute_result"
    }
   ],
   "source": [
    "# imdb 2, imdb_master.csv\n",
    "data_2 = pd.read_csv( data2 ,encoding=\"latin-1\")\n",
    "data_2 = data_2.drop(['Unnamed: 0','type','file'],axis=1)\n",
    "data_2.columns = [\"review\",\"sentiment\"]\n",
    "data_2 = data_2[data_2.sentiment != 'unsup']\n",
    "data_2['sentiment'] = data_2['sentiment'].map({'pos': 1, 'neg': 0})\n",
    "data_2.head()"
   ]
  },
  {
   "cell_type": "code",
   "execution_count": 7,
   "metadata": {},
   "outputs": [
    {
     "name": "stdout",
     "output_type": "stream",
     "text": [
      "(75000, 2)\n"
     ]
    },
    {
     "data": {
      "text/html": [
       "<div>\n",
       "<style scoped>\n",
       "    .dataframe tbody tr th:only-of-type {\n",
       "        vertical-align: middle;\n",
       "    }\n",
       "\n",
       "    .dataframe tbody tr th {\n",
       "        vertical-align: top;\n",
       "    }\n",
       "\n",
       "    .dataframe thead th {\n",
       "        text-align: right;\n",
       "    }\n",
       "</style>\n",
       "<table border=\"1\" class=\"dataframe\">\n",
       "  <thead>\n",
       "    <tr style=\"text-align: right;\">\n",
       "      <th></th>\n",
       "      <th>review</th>\n",
       "      <th>sentiment</th>\n",
       "    </tr>\n",
       "  </thead>\n",
       "  <tbody>\n",
       "    <tr>\n",
       "      <th>0</th>\n",
       "      <td>With all this stuff going down at the moment w...</td>\n",
       "      <td>1</td>\n",
       "    </tr>\n",
       "    <tr>\n",
       "      <th>1</th>\n",
       "      <td>\\The Classic War of the Worlds\\\" by Timothy Hi...</td>\n",
       "      <td>1</td>\n",
       "    </tr>\n",
       "    <tr>\n",
       "      <th>2</th>\n",
       "      <td>The film starts with a manager (Nicholas Bell)...</td>\n",
       "      <td>0</td>\n",
       "    </tr>\n",
       "    <tr>\n",
       "      <th>3</th>\n",
       "      <td>It must be assumed that those who praised this...</td>\n",
       "      <td>0</td>\n",
       "    </tr>\n",
       "    <tr>\n",
       "      <th>4</th>\n",
       "      <td>Superbly trashy and wondrously unpretentious 8...</td>\n",
       "      <td>1</td>\n",
       "    </tr>\n",
       "  </tbody>\n",
       "</table>\n",
       "</div>"
      ],
      "text/plain": [
       "                                              review  sentiment\n",
       "0  With all this stuff going down at the moment w...          1\n",
       "1  \\The Classic War of the Worlds\\\" by Timothy Hi...          1\n",
       "2  The film starts with a manager (Nicholas Bell)...          0\n",
       "3  It must be assumed that those who praised this...          0\n",
       "4  Superbly trashy and wondrously unpretentious 8...          1"
      ]
     },
     "execution_count": 7,
     "metadata": {},
     "output_type": "execute_result"
    }
   ],
   "source": [
    "# 두 데이타 합치기\n",
    "data = pd.concat([data_1, data_2], sort=True).reset_index(drop=True, )\n",
    "data_copy = data\n",
    "print(data_copy.shape)\n",
    "data_copy.head()"
   ]
  },
  {
   "cell_type": "code",
   "execution_count": 9,
   "metadata": {},
   "outputs": [
    {
     "name": "stdout",
     "output_type": "stream",
     "text": [
      "(75000, 3)\n"
     ]
    },
    {
     "data": {
      "text/html": [
       "<div>\n",
       "<style scoped>\n",
       "    .dataframe tbody tr th:only-of-type {\n",
       "        vertical-align: middle;\n",
       "    }\n",
       "\n",
       "    .dataframe tbody tr th {\n",
       "        vertical-align: top;\n",
       "    }\n",
       "\n",
       "    .dataframe thead th {\n",
       "        text-align: right;\n",
       "    }\n",
       "</style>\n",
       "<table border=\"1\" class=\"dataframe\">\n",
       "  <thead>\n",
       "    <tr style=\"text-align: right;\">\n",
       "      <th></th>\n",
       "      <th>review</th>\n",
       "      <th>sentiment</th>\n",
       "      <th>Processed_Reviews</th>\n",
       "    </tr>\n",
       "  </thead>\n",
       "  <tbody>\n",
       "    <tr>\n",
       "      <th>0</th>\n",
       "      <td>With all this stuff going down at the moment w...</td>\n",
       "      <td>1</td>\n",
       "      <td>stuff go moment mj ive start listen music watc...</td>\n",
       "    </tr>\n",
       "    <tr>\n",
       "      <th>1</th>\n",
       "      <td>\\The Classic War of the Worlds\\\" by Timothy Hi...</td>\n",
       "      <td>1</td>\n",
       "      <td>classic war world timothy hines entertain film...</td>\n",
       "    </tr>\n",
       "    <tr>\n",
       "      <th>2</th>\n",
       "      <td>The film starts with a manager (Nicholas Bell)...</td>\n",
       "      <td>0</td>\n",
       "      <td>film start manager nicholas bell give welcome ...</td>\n",
       "    </tr>\n",
       "  </tbody>\n",
       "</table>\n",
       "</div>"
      ],
      "text/plain": [
       "                                              review  sentiment  \\\n",
       "0  With all this stuff going down at the moment w...          1   \n",
       "1  \\The Classic War of the Worlds\\\" by Timothy Hi...          1   \n",
       "2  The film starts with a manager (Nicholas Bell)...          0   \n",
       "\n",
       "                                   Processed_Reviews  \n",
       "0  stuff go moment mj ive start listen music watc...  \n",
       "1  classic war world timothy hines entertain film...  \n",
       "2  film start manager nicholas bell give welcome ...  "
      ]
     },
     "execution_count": 9,
     "metadata": {},
     "output_type": "execute_result"
    }
   ],
   "source": [
    "# 자연어처리, 전처리\n",
    "import re\n",
    "from nltk.stem import WordNetLemmatizer\n",
    "from nltk.corpus import stopwords\n",
    "# stopword, lemmatizer 불러오기\n",
    "stop_words = set(stopwords.words(\"english\")) \n",
    "lemmatizer = WordNetLemmatizer()\n",
    "# \n",
    "def clean_text(text):\n",
    "    text = re.sub(r'[^\\w\\s]','',text, re.UNICODE)\n",
    "    text = re.sub(r'<br />','',text, re.UNICODE)\n",
    "    text = re.sub(r'â','',text, re.UNICODE)\n",
    "    text = text.lower()\n",
    "    text = [lemmatizer.lemmatize(token) for token in text.split(\" \")] # token 단위 lemmati\n",
    "    text = [lemmatizer.lemmatize(token, \"v\") for token in text] # 동사 lemmati\n",
    "    text = [word for word in text if not word in stop_words]  #stopword 없애고\n",
    "    text = \" \".join(text)  # 뛰어쓰기추가\n",
    "    return text\n",
    "\n",
    "data_copy['Processed_Reviews'] = data_copy.review.apply(lambda x: clean_text(x))\n",
    "print(data_copy.shape)\n",
    "data_copy[:3]"
   ]
  },
  {
   "cell_type": "code",
   "execution_count": 10,
   "metadata": {
    "scrolled": false
   },
   "outputs": [
    {
     "name": "stderr",
     "output_type": "stream",
     "text": [
      "/home/go/.local/lib/python3.6/site-packages/keras_preprocessing/text.py:177: UserWarning: The `nb_words` argument in `Tokenizer` has been renamed `num_words`.\n",
      "  warnings.warn('The `nb_words` argument in `Tokenizer` '\n"
     ]
    },
    {
     "name": "stdout",
     "output_type": "stream",
     "text": [
      "(75000, 15, 100)\n"
     ]
    }
   ],
   "source": [
    "reviews = []\n",
    "labels  = []\n",
    "texts   = []\n",
    "\n",
    "for idx in range(data_copy.review.shape[0]):\n",
    "    text = data_copy.review[idx]\n",
    "#     text = text.get_text().encode('ascii', 'ignore')\n",
    "#     text = clean_str(text)\n",
    "    text = clean_text(text)   # 캐글 전처리기 사용\n",
    "    texts.append(text)\n",
    "    sentences = tokenize.sent_tokenize(text)\n",
    "    reviews.append(sentences)\n",
    "\n",
    "    labels.append(data_copy.sentiment[idx])\n",
    "\n",
    "tokenizer = Tokenizer(nb_words=MAX_NB_WORDS)\n",
    "tokenizer.fit_on_texts(texts)\n",
    "\n",
    "# text가 여러 문장으로 되어있는 review 이다. 그러므로 document지\n",
    "# 입력데이타 : [ N , 최대문장수, 최대문장길이]\n",
    "data = np.zeros((len(texts), MAX_SENTS, MAX_SENT_LENGTH), dtype='int32')\n",
    "print(data.shape)"
   ]
  },
  {
   "cell_type": "code",
   "execution_count": 11,
   "metadata": {
    "scrolled": true
   },
   "outputs": [
    {
     "name": "stdout",
     "output_type": "stream",
     "text": [
      "Total 160166 unique tokens.\n",
      "Shape of data tensor: (75000, 15, 100)\n",
      "Shape of label tensor: (75000, 2)\n",
      "Number of positive and negative reviews in traing and validation set\n",
      "[29934. 30066.]\n",
      "[7566. 7434.]\n",
      "x_train:  (60000, 15, 100)\n",
      "y_train:  (60000, 2)\n",
      "x_val  :  (15000, 15, 100)\n",
      "y_val  :  (15000, 2)\n"
     ]
    }
   ],
   "source": [
    "for i, sentences in enumerate(reviews):\n",
    "    for j, sent in enumerate(sentences):\n",
    "        if j < MAX_SENTS:\n",
    "            wordTokens = text_to_word_sequence(sent)\n",
    "            k = 0\n",
    "            for _, word in enumerate(wordTokens):\n",
    "                if 'â' not in word:\n",
    "                    try:\n",
    "                        if k < MAX_SENT_LENGTH and tokenizer.word_index[word] < MAX_NB_WORDS:\n",
    "                            data[i, j, k] = tokenizer.word_index[word]\n",
    "                            k = k + 1\n",
    "                    except:\n",
    "                        print(word)\n",
    "                        print(sentences)\n",
    "                \n",
    "word_index = tokenizer.word_index\n",
    "print('Total %s unique tokens.' % len(word_index))\n",
    "\n",
    "labels = to_categorical(np.asarray(labels))\n",
    "print('Shape of data tensor:', data.shape)\n",
    "print('Shape of label tensor:', labels.shape)\n",
    "\n",
    "indices = np.arange(data.shape[0])\n",
    "np.random.shuffle(indices)\n",
    "data = data[indices]\n",
    "labels = labels[indices]\n",
    "nb_validation_samples = int(VALIDATION_SPLIT * data.shape[0])\n",
    "\n",
    "x_train = data[:-nb_validation_samples]\n",
    "y_train = labels[:-nb_validation_samples]\n",
    "x_val = data[-nb_validation_samples:]\n",
    "y_val = labels[-nb_validation_samples:]\n",
    "\n",
    "print('Number of positive and negative reviews in traing and validation set')\n",
    "print(y_train.sum(axis=0))\n",
    "print(y_val.sum(axis=0))\n",
    "\n",
    "print('x_train: ', x_train.shape)\n",
    "print('y_train: ', y_train.shape)\n",
    "print('x_val  : ', x_val.shape)\n",
    "print('y_val  : ', y_val.shape)"
   ]
  },
  {
   "cell_type": "code",
   "execution_count": 12,
   "metadata": {},
   "outputs": [
    {
     "name": "stdout",
     "output_type": "stream",
     "text": [
      "Total 400000 word vectors.\n",
      "done\n"
     ]
    }
   ],
   "source": [
    "GLOVE_DIR = 'glove'\n",
    "embeddings_index = {}\n",
    "f = open(os.path.join(GLOVE_DIR, 'glove.6B.200d.txt'))\n",
    "for line in f:\n",
    "    values = line.split()\n",
    "    word = values[0]\n",
    "    coefs = np.asarray(values[1:], dtype='float32')\n",
    "    embeddings_index[word] = coefs\n",
    "f.close()\n",
    "\n",
    "print('Total %s word vectors.' % len(embeddings_index))\n",
    "\n",
    "embedding_matrix = np.random.random((len(word_index) + 1, EMBEDDING_DIM))\n",
    "for word, i in word_index.items():\n",
    "    embedding_vector = embeddings_index.get(word)\n",
    "    if embedding_vector is not None:\n",
    "        # words not found in embedding index will be all-zeros.\n",
    "        embedding_matrix[i] = embedding_vector\n",
    "\n",
    "\n",
    "# building Hierachical Attention network\n",
    "embedding_matrix = np.random.random((len(word_index) + 1, EMBEDDING_DIM))\n",
    "for word, i in word_index.items():\n",
    "    embedding_vector = embeddings_index.get(word)\n",
    "    if embedding_vector is not None:\n",
    "        # words not found in embedding index will be all-zeros.\n",
    "        embedding_matrix[i] = embedding_vector\n",
    "\n",
    "# 입력 : 총 단어 갯수, 103051\n",
    "# 출력 : EMBEDDING_DIM(200)\n",
    "# embedding_matrix = (103052, 200)\n",
    "embedding_layer = Embedding(len(word_index) + 1,\n",
    "                            EMBEDDING_DIM,\n",
    "                            weights=[embedding_matrix],\n",
    "                            input_length=MAX_SENT_LENGTH,\n",
    "                            trainable=True,\n",
    "                            mask_zero=True)\n",
    "print('done')"
   ]
  },
  {
   "cell_type": "code",
   "execution_count": 13,
   "metadata": {},
   "outputs": [],
   "source": [
    "# visualize\n",
    "def highlight(c, power):\n",
    "    if power >= 0.5:\n",
    "        print('{}{}{}{}'.format(bg(160), attr(1), c, attr(0)), end='')\n",
    "    elif power >= 0.4:\n",
    "        print('{}{}{}{}'.format(bg(196), attr(1), c, attr(0)), end='')\n",
    "    elif power >= 0.3:\n",
    "        print('{}{}{}{}'.format(bg(210), attr(1), c, attr(0)), end='')\n",
    "    elif power >= 0.2:\n",
    "        print('{}{}{}{}'.format(bg(217), attr(1), c, attr(0)), end='')\n",
    "    elif power >= 0.1:\n",
    "        print('{}{}{}{}'.format(bg(224), attr(1), c, attr(0)), end='')\n",
    "    elif power > 0.0:\n",
    "        print('{}{}{}{}'.format(bg(225), attr(1), c, attr(0)), end='')\n",
    "    else:\n",
    "        print(c, end='')\n",
    "        \n",
    "# visualize\n",
    "def highlight_normalize(c, power, power_min, power_max):\n",
    "    # 글자, power, 그 파워의 최소값, 최대값\n",
    "    # 최대, 최소값으로 0~1 normalize\n",
    "    power = (power - power_min) / (power_max - power_min)\n",
    "    \n",
    "    if power >= 0.9:\n",
    "        print('{}{}{}{}'.format(bg(160), attr(1), c, attr(0)), end='')\n",
    "    elif power >= 0.8:\n",
    "        print('{}{}{}{}'.format(bg(196), attr(1), c, attr(0)), end='')\n",
    "    elif power >= 0.6:\n",
    "        print('{}{}{}{}'.format(bg(210), attr(1), c, attr(0)), end='')\n",
    "    elif power >= 0.4:\n",
    "        print('{}{}{}{}'.format(bg(217), attr(1), c, attr(0)), end='')\n",
    "    elif power >= 0.2:\n",
    "        print('{}{}{}{}'.format(bg(224), attr(1), c, attr(0)), end='')\n",
    "    elif power > 0.0:\n",
    "        print('{}{}{}{}'.format(bg(225), attr(1), c, attr(0)), end='')\n",
    "    else:\n",
    "        print(c, end='')"
   ]
  },
  {
   "cell_type": "code",
   "execution_count": 14,
   "metadata": {},
   "outputs": [],
   "source": [
    "class AttentionLayer(Layer):\n",
    "    \"\"\"\n",
    "    Attention operation, with a context/query vector, for temporal data.\n",
    "    Supports Masking.\n",
    "    Follows the work of Yang et al. [https://www.cs.cmu.edu/~diyiy/docs/naacl16.pdf]\n",
    "    \"Hierarchical Attention Networks for Document Classification\"\n",
    "    by using a context vector to assist the attention\n",
    "    # Input shape\n",
    "        3D tensor with shape: `(samples, steps, features)`.\n",
    "    # Output shape\n",
    "        2D tensor with shape: `(samples, features)`.\n",
    "    How to use:\n",
    "    Just put it on top of an RNN Layer (GRU/LSTM/SimpleRNN) with return_sequences=True.\n",
    "    The dimensions are inferred based on the output shape of the RNN.\n",
    "    Note: The layer has been tested with Keras 2.0.6\n",
    "    Example:\n",
    "        model.add(LSTM(64, return_sequences=True))\n",
    "        model.add(AttentionWithContext())\n",
    "        # next add a Dense layer (for classification/regression) or whatever...\n",
    "    \"\"\"\n",
    "#     def __init__(self, attention_dim, **kwargs):\n",
    "    def __init__(self, **kwargs):\n",
    "#         self.attention_dim = attention_dim\n",
    "\n",
    "        self.init = initializers.get('glorot_uniform')\n",
    "        super(AttentionLayer, self).__init__(**kwargs)\n",
    "    \n",
    "    def build(self, input_shape):\n",
    "        assert len(input_shape) == 3\n",
    "        \n",
    "        self.W = self.add_weight(name='Attention_Weight',\n",
    "                                 shape=(input_shape[-1], input_shape[-1]),\n",
    "                                 initializer=self.init,\n",
    "                                 trainable=True)\n",
    "        self.b = self.add_weight(name='Attention_Bias',\n",
    "                                 shape=(input_shape[-1], ),\n",
    "                                 initializer=self.init,\n",
    "                                 trainable=True)\n",
    "        self.u = self.add_weight(name='Attention_Context_Vector',\n",
    "                                 shape=(input_shape[-1], 1),\n",
    "                                 initializer=self.init,\n",
    "                                 trainable=True)\n",
    "        super(AttentionLayer, self).build(input_shape)\n",
    "\n",
    "    def compute_mask(self, input, input_mask=None):\n",
    "        # do not pass the mask to the next layers\n",
    "        return None\n",
    "    \n",
    "    def call(self, x):\n",
    "        # refer to the original paper\n",
    "        # link: https://www.cs.cmu.edu/~hovy/papers/16HLT-hierarchical-attention-networks.pdf\n",
    "        \n",
    "        # RNN 구조를 거쳐서 나온 hidden states (x)에 single layer perceptron (tanh activation)\n",
    "        # 적용하여 나온 벡터가 uit \n",
    "        u_it = K.tanh(K.dot(x, self.W) + self.b)\n",
    "        \n",
    "        # uit와 uw (혹은 us) 간의 similarity를 attention으로 사용\n",
    "        # softmax를 통해 attention 값을 확률 분포로 만듬\n",
    "        a_it = K.dot(u_it, self.u)\n",
    "        a_it = K.squeeze(a_it, -1)\n",
    "        a_it = K.softmax(a_it)\n",
    "        \n",
    "        return a_it\n",
    "        \n",
    "    def compute_output_shape(self, input_shape):\n",
    "        return (input_shape[0], input_shape[1])"
   ]
  },
  {
   "cell_type": "markdown",
   "metadata": {},
   "source": [
    "# word-level attention 적용하기 (for sentence representation)"
   ]
  },
  {
   "cell_type": "code",
   "execution_count": 15,
   "metadata": {},
   "outputs": [
    {
     "name": "stdout",
     "output_type": "stream",
     "text": [
      "Tensor(\"attention_layer_1/Softmax:0\", shape=(?, 100), dtype=float32)\n"
     ]
    }
   ],
   "source": [
    "# first, build a sentence encoder\n",
    "sentence_input = Input(shape=(MAX_SENT_LENGTH, ), dtype='int32')\n",
    "embedded_sentence = embedding_layer(sentence_input)\n",
    "# [?,?,200]\n",
    "bilstm_sentence = Bidirectional(LSTM(lstm_dim, return_sequences=True))(embedded_sentence)\n",
    "\n",
    "# word attention computation, [?,200]\n",
    "# word_attention = AttentionWithContext()(bilstm_sentence)\n",
    "word_attention = AttentionLayer()(bilstm_sentence)\n",
    "print(word_attention)\n",
    "\n",
    "# word attention application, [?,200, 200]\n",
    "# hidden states의 출력에 맞게 scalar를 반복해 (lstm_dim * 2) 크기로 만듬\n",
    "repeated_word_attention = RepeatVector(lstm_dim * 2)(word_attention)\n",
    "# Permute 레이어를 사용해 Multiply가 가능하도록 차원 수정, 곱하기 위하여\n",
    "# [MAX_SENTENCE_LENGTH, lstm_dim * 2] -> [lstm_dim * 2, MAX_SENTENCE_LENGTH] \n",
    "repeated_word_attention = Permute([2, 1])(repeated_word_attention)\n",
    "\n",
    "# compute sentence representation as the weighted sum of word representations\n",
    "# 곱하고\n",
    "sentence_representation = Multiply()([bilstm_sentence, repeated_word_attention])\n",
    "# weighted-sum과정, weighting 해주고 summation, 펼쳐서 수행\n",
    "sentence_representation = Lambda(lambda x: K.sum(x, axis=1))(sentence_representation)"
   ]
  },
  {
   "cell_type": "markdown",
   "metadata": {},
   "source": [
    "# sentence-attention 적용하기 (for document representation)"
   ]
  },
  {
   "cell_type": "code",
   "execution_count": 16,
   "metadata": {},
   "outputs": [],
   "source": [
    "sentence_encoder = Model(inputs=[sentence_input], \n",
    "                         outputs=[sentence_representation])\n",
    "\n",
    "# then, build a document encoder\n",
    "document_input = Input(shape=(MAX_SENTS, MAX_SENT_LENGTH), dtype='int32')\n",
    "# 입력이 document_input 이므로, sentence 입력으로 바꾸기 위하여\n",
    "embedded_document = TimeDistributed(sentence_encoder)(document_input)\n",
    "bilstm_document = Bidirectional(LSTM(lstm_dim, return_sequences=True))(embedded_document)\n",
    "\n",
    "# sentence attention computation\n",
    "sentence_attention = AttentionLayer()(bilstm_document)\n",
    "\n",
    "# sentence attention application\n",
    "repeated_sentence_attention = RepeatVector(lstm_dim * 2)(sentence_attention)\n",
    "repeated_sentence_attention = Permute([2, 1])(repeated_sentence_attention)\n",
    "\n",
    "# compute document representation as the weighted sum of sentence representations\n",
    "document_representation = Multiply()([bilstm_document, repeated_sentence_attention])\n",
    "document_representation = Lambda(lambda x: K.sum(x, axis=1))(document_representation)"
   ]
  },
  {
   "cell_type": "markdown",
   "metadata": {},
   "source": [
    "# sentiment classification 하기"
   ]
  },
  {
   "cell_type": "code",
   "execution_count": 17,
   "metadata": {},
   "outputs": [],
   "source": [
    "# finally, add fc layers for classification\n",
    "hidden = BatchNormalization()(document_representation)\n",
    "hidden = Dense(dense_dim)(hidden)\n",
    "hidden = LeakyReLU(alpha=0.1)(hidden)\n",
    "hidden = Dropout(dense_dropout)(hidden)\n",
    "\n",
    "pred_sentiment = Dense(nb_classes, activation='softmax')(hidden)\n",
    "\n",
    "model = Model(inputs=[document_input],\n",
    "            outputs=[pred_sentiment])\n",
    "\n",
    "# compile\n",
    "if   Learning_Rate_Mode == 'SGD':\n",
    "    opt = SGD(lr=Learning_Rate, momentum=0.9, decay=1e-6)\n",
    "elif Learning_Rate_Mode == 'Amsgrad':\n",
    "    opt = Adam(lr=Learning_Rate, amsgrad=True)\n",
    "elif Learning_Rate_Mode == 'Adam':\n",
    "    opt = Adam(lr=Learning_Rate)\n",
    "elif Learning_Rate_Mode == 'Adadelta':    \n",
    "    opt = Adadelta(lr=Learning_Rate)\n",
    "    \n",
    "model.compile(loss='categorical_crossentropy',\n",
    "              optimizer=opt,\n",
    "              metrics=['accuracy'])"
   ]
  },
  {
   "cell_type": "code",
   "execution_count": 18,
   "metadata": {},
   "outputs": [
    {
     "name": "stdout",
     "output_type": "stream",
     "text": [
      "__________________________________________________________________________________________________\n",
      "Layer (type)                    Output Shape         Param #     Connected to                     \n",
      "==================================================================================================\n",
      "input_1 (InputLayer)            (None, 100)          0                                            \n",
      "__________________________________________________________________________________________________\n",
      "embedding_1 (Embedding)         (None, 100, 200)     32033400    input_1[0][0]                    \n",
      "__________________________________________________________________________________________________\n",
      "bidirectional_1 (Bidirectional) (None, 100, 200)     240800      embedding_1[0][0]                \n",
      "__________________________________________________________________________________________________\n",
      "attention_layer_1 (AttentionLay (None, 100)          40400       bidirectional_1[0][0]            \n",
      "__________________________________________________________________________________________________\n",
      "repeat_vector_1 (RepeatVector)  (None, 200, 100)     0           attention_layer_1[0][0]          \n",
      "__________________________________________________________________________________________________\n",
      "permute_1 (Permute)             (None, 100, 200)     0           repeat_vector_1[0][0]            \n",
      "__________________________________________________________________________________________________\n",
      "multiply_1 (Multiply)           (None, 100, 200)     0           bidirectional_1[0][0]            \n",
      "                                                                 permute_1[0][0]                  \n",
      "__________________________________________________________________________________________________\n",
      "lambda_1 (Lambda)               (None, 200)          0           multiply_1[0][0]                 \n",
      "==================================================================================================\n",
      "Total params: 32,314,600\n",
      "Trainable params: 32,314,600\n",
      "Non-trainable params: 0\n",
      "__________________________________________________________________________________________________\n"
     ]
    }
   ],
   "source": [
    "sentence_encoder.summary()"
   ]
  },
  {
   "cell_type": "code",
   "execution_count": 19,
   "metadata": {},
   "outputs": [
    {
     "name": "stdout",
     "output_type": "stream",
     "text": [
      "__________________________________________________________________________________________________\n",
      "Layer (type)                    Output Shape         Param #     Connected to                     \n",
      "==================================================================================================\n",
      "input_2 (InputLayer)            (None, 15, 100)      0                                            \n",
      "__________________________________________________________________________________________________\n",
      "time_distributed_1 (TimeDistrib (None, 15, 200)      32314600    input_2[0][0]                    \n",
      "__________________________________________________________________________________________________\n",
      "bidirectional_2 (Bidirectional) (None, 15, 200)      240800      time_distributed_1[0][0]         \n",
      "__________________________________________________________________________________________________\n",
      "attention_layer_2 (AttentionLay (None, 15)           40400       bidirectional_2[0][0]            \n",
      "__________________________________________________________________________________________________\n",
      "repeat_vector_2 (RepeatVector)  (None, 200, 15)      0           attention_layer_2[0][0]          \n",
      "__________________________________________________________________________________________________\n",
      "permute_2 (Permute)             (None, 15, 200)      0           repeat_vector_2[0][0]            \n",
      "__________________________________________________________________________________________________\n",
      "multiply_2 (Multiply)           (None, 15, 200)      0           bidirectional_2[0][0]            \n",
      "                                                                 permute_2[0][0]                  \n",
      "__________________________________________________________________________________________________\n",
      "lambda_2 (Lambda)               (None, 200)          0           multiply_2[0][0]                 \n",
      "__________________________________________________________________________________________________\n",
      "batch_normalization_1 (BatchNor (None, 200)          800         lambda_2[0][0]                   \n",
      "__________________________________________________________________________________________________\n",
      "dense_1 (Dense)                 (None, 20)           4020        batch_normalization_1[0][0]      \n",
      "__________________________________________________________________________________________________\n",
      "leaky_re_lu_1 (LeakyReLU)       (None, 20)           0           dense_1[0][0]                    \n",
      "__________________________________________________________________________________________________\n",
      "dropout_1 (Dropout)             (None, 20)           0           leaky_re_lu_1[0][0]              \n",
      "__________________________________________________________________________________________________\n",
      "dense_2 (Dense)                 (None, 2)            42          dropout_1[0][0]                  \n",
      "==================================================================================================\n",
      "Total params: 32,600,662\n",
      "Trainable params: 32,600,262\n",
      "Non-trainable params: 400\n",
      "__________________________________________________________________________________________________\n"
     ]
    }
   ],
   "source": [
    "model.summary()"
   ]
  },
  {
   "cell_type": "code",
   "execution_count": 20,
   "metadata": {},
   "outputs": [],
   "source": [
    "ck_dir = 'models/'\n",
    "os.makedirs(ck_dir, exist_ok=True)\n",
    "ck_path = ck_dir + 'model.h5'\n",
    "\n",
    "checkpoint = ModelCheckpoint(ck_path,\n",
    "                             monitor='val_acc',\n",
    "                             verbose=0,\n",
    "                             save_best_only=True,\n",
    "                             mode='min')\n",
    "early_stopping = EarlyStopping(patience = 70)"
   ]
  },
  {
   "cell_type": "code",
   "execution_count": 21,
   "metadata": {},
   "outputs": [
    {
     "name": "stdout",
     "output_type": "stream",
     "text": [
      "model fitting - Hierachical attention network\n"
     ]
    },
    {
     "name": "stderr",
     "output_type": "stream",
     "text": [
      "/home/go/anaconda3/envs/venv/lib/python3.6/site-packages/ipykernel_launcher.py:9: UserWarning: The `nb_epoch` argument in `fit` has been renamed `epochs`.\n",
      "  if __name__ == '__main__':\n"
     ]
    },
    {
     "name": "stdout",
     "output_type": "stream",
     "text": [
      "Train on 60000 samples, validate on 15000 samples\n",
      "Epoch 1/100\n",
      "60000/60000 [==============================] - 494s 8ms/step - loss: 0.3699 - acc: 0.8349 - val_loss: 0.2730 - val_acc: 0.8905\n",
      "Epoch 2/100\n",
      "60000/60000 [==============================] - 487s 8ms/step - loss: 0.2474 - acc: 0.9006 - val_loss: 0.2609 - val_acc: 0.8953\n",
      "Epoch 3/100\n",
      "60000/60000 [==============================] - 487s 8ms/step - loss: 0.1862 - acc: 0.9299 - val_loss: 0.2398 - val_acc: 0.9024\n",
      "Epoch 4/100\n",
      "60000/60000 [==============================] - 486s 8ms/step - loss: 0.1357 - acc: 0.9508 - val_loss: 0.2041 - val_acc: 0.9303\n",
      "Epoch 5/100\n",
      "60000/60000 [==============================] - 486s 8ms/step - loss: 0.0927 - acc: 0.9680 - val_loss: 0.2237 - val_acc: 0.9291\n",
      "Epoch 6/100\n",
      "60000/60000 [==============================] - 488s 8ms/step - loss: 0.0674 - acc: 0.9773 - val_loss: 0.2842 - val_acc: 0.9186\n",
      "Epoch 7/100\n",
      "60000/60000 [==============================] - 487s 8ms/step - loss: 0.0468 - acc: 0.9845 - val_loss: 0.3375 - val_acc: 0.9111\n",
      "Epoch 8/100\n",
      "60000/60000 [==============================] - 489s 8ms/step - loss: 0.0284 - acc: 0.9907 - val_loss: 0.3088 - val_acc: 0.9415\n",
      "Epoch 9/100\n",
      "60000/60000 [==============================] - 485s 8ms/step - loss: 0.0260 - acc: 0.9917 - val_loss: 0.3311 - val_acc: 0.9325\n",
      "Epoch 10/100\n",
      "60000/60000 [==============================] - 485s 8ms/step - loss: 0.0181 - acc: 0.9940 - val_loss: 0.3810 - val_acc: 0.9357\n",
      "Epoch 11/100\n",
      "60000/60000 [==============================] - 486s 8ms/step - loss: 0.0144 - acc: 0.9955 - val_loss: 0.3552 - val_acc: 0.9443\n",
      "Epoch 12/100\n",
      "60000/60000 [==============================] - 487s 8ms/step - loss: 0.0121 - acc: 0.9963 - val_loss: 0.3751 - val_acc: 0.9353\n",
      "Epoch 13/100\n",
      "60000/60000 [==============================] - 486s 8ms/step - loss: 0.0129 - acc: 0.9959 - val_loss: 0.3942 - val_acc: 0.9402\n",
      "Epoch 14/100\n",
      "60000/60000 [==============================] - 486s 8ms/step - loss: 0.0104 - acc: 0.9963 - val_loss: 0.3955 - val_acc: 0.9408\n",
      "Epoch 15/100\n",
      "60000/60000 [==============================] - 485s 8ms/step - loss: 0.0104 - acc: 0.9966 - val_loss: 0.3917 - val_acc: 0.9436\n",
      "Epoch 16/100\n",
      "60000/60000 [==============================] - 486s 8ms/step - loss: 0.0087 - acc: 0.9971 - val_loss: 0.4134 - val_acc: 0.9455\n",
      "Epoch 17/100\n",
      "60000/60000 [==============================] - 486s 8ms/step - loss: 0.0091 - acc: 0.9969 - val_loss: 0.4289 - val_acc: 0.9411\n",
      "Epoch 18/100\n",
      "60000/60000 [==============================] - 487s 8ms/step - loss: 0.0072 - acc: 0.9976 - val_loss: 0.4663 - val_acc: 0.9387\n",
      "Epoch 19/100\n",
      "60000/60000 [==============================] - 487s 8ms/step - loss: 0.0067 - acc: 0.9978 - val_loss: 0.4400 - val_acc: 0.9347\n",
      "Epoch 20/100\n",
      "60000/60000 [==============================] - 487s 8ms/step - loss: 0.0064 - acc: 0.9979 - val_loss: 0.4502 - val_acc: 0.9411\n",
      "Epoch 21/100\n",
      "60000/60000 [==============================] - 488s 8ms/step - loss: 0.0050 - acc: 0.9986 - val_loss: 0.4514 - val_acc: 0.9446\n",
      "Epoch 22/100\n",
      "60000/60000 [==============================] - 487s 8ms/step - loss: 0.0048 - acc: 0.9985 - val_loss: 0.4384 - val_acc: 0.9435\n",
      "Epoch 23/100\n",
      "60000/60000 [==============================] - 487s 8ms/step - loss: 0.0056 - acc: 0.9983 - val_loss: 0.4504 - val_acc: 0.9456\n",
      "Epoch 24/100\n",
      "60000/60000 [==============================] - 484s 8ms/step - loss: 0.0034 - acc: 0.9991 - val_loss: 0.4340 - val_acc: 0.9388\n",
      "Epoch 25/100\n",
      "60000/60000 [==============================] - 486s 8ms/step - loss: 0.0056 - acc: 0.9986 - val_loss: 0.4524 - val_acc: 0.9435\n",
      "Epoch 26/100\n",
      "60000/60000 [==============================] - 482s 8ms/step - loss: 0.0045 - acc: 0.9986 - val_loss: 0.5119 - val_acc: 0.9423\n",
      "Epoch 27/100\n",
      "60000/60000 [==============================] - 484s 8ms/step - loss: 0.0043 - acc: 0.9988 - val_loss: 0.4790 - val_acc: 0.9429\n",
      "Epoch 28/100\n",
      "60000/60000 [==============================] - 486s 8ms/step - loss: 0.0044 - acc: 0.9986 - val_loss: 0.4643 - val_acc: 0.9453\n",
      "Epoch 29/100\n",
      "60000/60000 [==============================] - 487s 8ms/step - loss: 0.0039 - acc: 0.9988 - val_loss: 0.4919 - val_acc: 0.9421\n",
      "Epoch 30/100\n",
      "60000/60000 [==============================] - 485s 8ms/step - loss: 0.0028 - acc: 0.9993 - val_loss: 0.5551 - val_acc: 0.9427\n",
      "Epoch 31/100\n",
      "60000/60000 [==============================] - 487s 8ms/step - loss: 0.0052 - acc: 0.9983 - val_loss: 0.4877 - val_acc: 0.9423\n",
      "Epoch 32/100\n",
      "60000/60000 [==============================] - 484s 8ms/step - loss: 0.0042 - acc: 0.9988 - val_loss: 0.5026 - val_acc: 0.9396\n",
      "Epoch 33/100\n",
      "60000/60000 [==============================] - 484s 8ms/step - loss: 0.0033 - acc: 0.9990 - val_loss: 0.5127 - val_acc: 0.9441\n",
      "Epoch 34/100\n",
      "60000/60000 [==============================] - 487s 8ms/step - loss: 0.0027 - acc: 0.9992 - val_loss: 0.4861 - val_acc: 0.9427\n",
      "Epoch 35/100\n",
      "60000/60000 [==============================] - 487s 8ms/step - loss: 0.0028 - acc: 0.9993 - val_loss: 0.4962 - val_acc: 0.9433\n",
      "Epoch 36/100\n",
      "60000/60000 [==============================] - 485s 8ms/step - loss: 0.0026 - acc: 0.9995 - val_loss: 0.5111 - val_acc: 0.9449\n",
      "Epoch 37/100\n",
      "60000/60000 [==============================] - 486s 8ms/step - loss: 0.0040 - acc: 0.9989 - val_loss: 0.4978 - val_acc: 0.9442\n",
      "Epoch 38/100\n",
      "60000/60000 [==============================] - 484s 8ms/step - loss: 0.0030 - acc: 0.9992 - val_loss: 0.4388 - val_acc: 0.9473\n",
      "Epoch 39/100\n",
      "60000/60000 [==============================] - 483s 8ms/step - loss: 0.0015 - acc: 0.9996 - val_loss: 0.5686 - val_acc: 0.9458\n",
      "Epoch 40/100\n",
      "60000/60000 [==============================] - 483s 8ms/step - loss: 0.0032 - acc: 0.9990 - val_loss: 0.5002 - val_acc: 0.9430\n",
      "Epoch 41/100\n",
      "60000/60000 [==============================] - 486s 8ms/step - loss: 0.0028 - acc: 0.9992 - val_loss: 0.5106 - val_acc: 0.9443\n",
      "Epoch 42/100\n",
      "60000/60000 [==============================] - 485s 8ms/step - loss: 0.0020 - acc: 0.9995 - val_loss: 0.5677 - val_acc: 0.9446\n",
      "Epoch 43/100\n",
      "60000/60000 [==============================] - 485s 8ms/step - loss: 0.0019 - acc: 0.9996 - val_loss: 0.6302 - val_acc: 0.9420\n",
      "Epoch 44/100\n",
      "60000/60000 [==============================] - 486s 8ms/step - loss: 0.0028 - acc: 0.9991 - val_loss: 0.5481 - val_acc: 0.9424\n",
      "Epoch 45/100\n",
      "60000/60000 [==============================] - 484s 8ms/step - loss: 0.0020 - acc: 0.9996 - val_loss: 0.5262 - val_acc: 0.9425\n",
      "Epoch 46/100\n",
      "60000/60000 [==============================] - 484s 8ms/step - loss: 0.0030 - acc: 0.9989 - val_loss: 0.5291 - val_acc: 0.9440\n",
      "Epoch 47/100\n",
      "60000/60000 [==============================] - 486s 8ms/step - loss: 0.0025 - acc: 0.9994 - val_loss: 0.5112 - val_acc: 0.9428\n",
      "Epoch 48/100\n",
      "60000/60000 [==============================] - 485s 8ms/step - loss: 8.4814e-04 - acc: 0.9998 - val_loss: 0.6186 - val_acc: 0.9419\n",
      "Epoch 49/100\n",
      "60000/60000 [==============================] - 484s 8ms/step - loss: 0.0017 - acc: 0.9996 - val_loss: 0.5388 - val_acc: 0.9411\n",
      "Epoch 50/100\n",
      "60000/60000 [==============================] - 486s 8ms/step - loss: 0.0045 - acc: 0.9988 - val_loss: 0.5288 - val_acc: 0.9405\n",
      "Epoch 51/100\n",
      "60000/60000 [==============================] - 488s 8ms/step - loss: 0.0015 - acc: 0.9996 - val_loss: 0.4713 - val_acc: 0.9435\n",
      "Epoch 52/100\n",
      "60000/60000 [==============================] - 483s 8ms/step - loss: 4.3615e-04 - acc: 1.0000 - val_loss: 0.6418 - val_acc: 0.9414\n",
      "Epoch 53/100\n",
      "60000/60000 [==============================] - 486s 8ms/step - loss: 0.0018 - acc: 0.9996 - val_loss: 0.6764 - val_acc: 0.9350\n",
      "Epoch 54/100\n",
      "60000/60000 [==============================] - 487s 8ms/step - loss: 0.0039 - acc: 0.9990 - val_loss: 0.5349 - val_acc: 0.9425\n",
      "Epoch 55/100\n",
      "60000/60000 [==============================] - 485s 8ms/step - loss: 0.0023 - acc: 0.9994 - val_loss: 0.4762 - val_acc: 0.9437\n",
      "Epoch 56/100\n",
      "60000/60000 [==============================] - 487s 8ms/step - loss: 0.0014 - acc: 0.9997 - val_loss: 0.5323 - val_acc: 0.9427\n",
      "Epoch 57/100\n",
      "60000/60000 [==============================] - 483s 8ms/step - loss: 0.0024 - acc: 0.9993 - val_loss: 0.5082 - val_acc: 0.9441\n",
      "Epoch 58/100\n",
      "60000/60000 [==============================] - 485s 8ms/step - loss: 6.2372e-04 - acc: 0.9999 - val_loss: 0.5956 - val_acc: 0.9429\n",
      "Epoch 59/100\n"
     ]
    },
    {
     "name": "stdout",
     "output_type": "stream",
     "text": [
      "60000/60000 [==============================] - 487s 8ms/step - loss: 3.2791e-04 - acc: 1.0000 - val_loss: 0.6214 - val_acc: 0.9443\n",
      "Epoch 60/100\n",
      "60000/60000 [==============================] - 484s 8ms/step - loss: 0.0021 - acc: 0.9994 - val_loss: 0.6495 - val_acc: 0.9401\n",
      "Epoch 61/100\n",
      "60000/60000 [==============================] - 485s 8ms/step - loss: 0.0021 - acc: 0.9993 - val_loss: 0.5551 - val_acc: 0.9459\n",
      "Epoch 62/100\n",
      "60000/60000 [==============================] - 485s 8ms/step - loss: 0.0022 - acc: 0.9994 - val_loss: 0.5734 - val_acc: 0.9438\n",
      "Epoch 63/100\n",
      "60000/60000 [==============================] - 483s 8ms/step - loss: 0.0012 - acc: 0.9996 - val_loss: 0.5914 - val_acc: 0.9434\n",
      "Epoch 64/100\n",
      "60000/60000 [==============================] - 486s 8ms/step - loss: 3.3717e-04 - acc: 1.0000 - val_loss: 0.6520 - val_acc: 0.9428\n",
      "Epoch 65/100\n",
      "60000/60000 [==============================] - 483s 8ms/step - loss: 2.8223e-04 - acc: 1.0000 - val_loss: 0.6681 - val_acc: 0.9435\n",
      "Epoch 66/100\n",
      "60000/60000 [==============================] - 484s 8ms/step - loss: 2.8586e-04 - acc: 1.0000 - val_loss: 0.6885 - val_acc: 0.9441\n",
      "Epoch 67/100\n",
      "60000/60000 [==============================] - 486s 8ms/step - loss: 0.0026 - acc: 0.9994 - val_loss: 0.5046 - val_acc: 0.9430\n",
      "Epoch 68/100\n",
      "60000/60000 [==============================] - 485s 8ms/step - loss: 0.0032 - acc: 0.9991 - val_loss: 0.5538 - val_acc: 0.9437\n",
      "Epoch 69/100\n",
      "60000/60000 [==============================] - 484s 8ms/step - loss: 0.0010 - acc: 0.9998 - val_loss: 0.5853 - val_acc: 0.9440\n",
      "Epoch 70/100\n",
      "60000/60000 [==============================] - 486s 8ms/step - loss: 6.9506e-04 - acc: 0.9998 - val_loss: 0.6152 - val_acc: 0.9427\n",
      "Epoch 71/100\n",
      "60000/60000 [==============================] - 485s 8ms/step - loss: 0.0021 - acc: 0.9994 - val_loss: 0.5831 - val_acc: 0.9402\n",
      "Epoch 72/100\n",
      "60000/60000 [==============================] - 483s 8ms/step - loss: 0.0013 - acc: 0.9998 - val_loss: 0.6063 - val_acc: 0.9410\n",
      "Epoch 73/100\n",
      "60000/60000 [==============================] - 484s 8ms/step - loss: 0.0010 - acc: 0.9998 - val_loss: 0.5763 - val_acc: 0.9430\n",
      "Epoch 74/100\n",
      "60000/60000 [==============================] - 485s 8ms/step - loss: 6.2011e-04 - acc: 0.9999 - val_loss: 0.6269 - val_acc: 0.9450\n"
     ]
    }
   ],
   "source": [
    "epoch = 100\n",
    "\n",
    "print(\"model fitting - Hierachical attention network\")\n",
    "hist = model.fit( x_train, y_train, \n",
    "                  nb_epoch=epoch, \n",
    "                  batch_size=batch_size,\n",
    "                  shuffle=True,\n",
    "                  callbacks=[checkpoint, early_stopping],\n",
    "                  validation_data=(x_val, y_val)\n",
    "                 )"
   ]
  },
  {
   "cell_type": "code",
   "execution_count": 81,
   "metadata": {},
   "outputs": [
    {
     "name": "stdout",
     "output_type": "stream",
     "text": [
      "Best validation accuracy :  94.73 %\n"
     ]
    },
    {
     "data": {
      "image/png": "[encoded data removed]",
      "text/plain": [
       "<Figure size 432x288 with 2 Axes>"
      ]
     },
     "metadata": {
      "needs_background": "light"
     },
     "output_type": "display_data"
    }
   ],
   "source": [
    "# 5. 모델 학습 과정 표시하기\n",
    "print('Best validation accuracy : ', round(np.max(hist.history['val_acc'])*100,2), '%')\n",
    "%matplotlib inline\n",
    "import matplotlib.pyplot as plt\n",
    "\n",
    "fig, loss_ax = plt.subplots()\n",
    "\n",
    "acc_ax = loss_ax.twinx()\n",
    "\n",
    "loss_ax.plot(hist.history['loss'], 'y', label='train loss')\n",
    "loss_ax.plot(hist.history['val_loss'], 'r', label='val loss')\n",
    "\n",
    "acc_ax.plot(hist.history['acc'], 'b', label='train acc')\n",
    "acc_ax.plot(hist.history['val_acc'], 'g', label='val acc')\n",
    "\n",
    "loss_ax.set_xlabel('epoch')\n",
    "loss_ax.set_ylabel('loss')\n",
    "acc_ax.set_ylabel('accuray')\n",
    "\n",
    "loss_ax.legend(loc='upper left')\n",
    "acc_ax.legend(loc='lower left')\n",
    "\n",
    "plt.show()"
   ]
  },
  {
   "cell_type": "markdown",
   "metadata": {},
   "source": [
    "# attention 시각화하기\n",
    "HAN에서는 word-level attention과 sentence-level attention이 함께 쓰입니다. 이 attention들을 분석"
   ]
  },
  {
   "cell_type": "code",
   "execution_count": 23,
   "metadata": {},
   "outputs": [],
   "source": [
    "# 입력 넛고, word_attention layer 출력, 근데 입력이 document 므로, TimeDistributed로 만들기\n",
    "word_attention_extractor = Model(inputs=[sentence_input],\n",
    "                                 outputs=[word_attention])\n",
    "\n",
    "word_attentions = TimeDistributed(word_attention_extractor)(document_input)\n",
    "\n",
    "# doc 입력으로 단어레벨, 문장레벨 어텐션 뽑기\n",
    "attention_extractor = Model(inputs=[document_input],\n",
    "                            outputs=[word_attentions, sentence_attention])\n",
    "# (N, 15, 100)\n",
    "attention_expamle = attention_extractor.predict(x_val[:3])"
   ]
  },
  {
   "cell_type": "markdown",
   "metadata": {},
   "source": [
    "# word attention visualization"
   ]
  },
  {
   "cell_type": "code",
   "execution_count": 24,
   "metadata": {},
   "outputs": [],
   "source": [
    "word_rev_index = {}\n",
    "for word, i in tokenizer.word_index.items():\n",
    "    word_rev_index[i] = word\n",
    "\n",
    "def sentiment_analysis(review): \n",
    "    sentences = tokenize.sent_tokenize(review)  # 문단->문장단위로 자르기\n",
    "    tokenized_sentences = tokenizer.texts_to_sequences(sentences)  # 벡터화\n",
    "    tokenized_sentences = pad_sequences(tokenized_sentences, maxlen=MAX_SENT_LENGTH) # 문장 최대길이로 제로패딩, 앞쪽으로 0이 붙는다\n",
    "    pad_size = MAX_SENTS - tokenized_sentences.shape[0]  # 15 - 6 = 9, 문장단위로는 9번 패딩해야한다\n",
    "\n",
    "    # tokenized_sentences : [15 , 100]\n",
    "    if pad_size <= 0:\n",
    "        tokenized_sentences = tokenized_sentences[:MAX_SENTS]  # 최대 문장수보다 크면 MAX_SENTS 만큼 자르고\n",
    "    else:\n",
    "        tokenized_sentences = np.pad(\n",
    "            tokenized_sentences, ((0, pad_size), (0, 0)),\n",
    "            mode='constant', constant_values=0\n",
    "        )  # 그렇지 않으면 죄다 0으로 패딩\n",
    "    tokenized_sentences_input = np.asarray([tokenized_sentences])  # list를 np array로 변환하여 입력하기 위해\n",
    "\n",
    "    # 단어기준, 문장기준 어텐션 가져오기, np.asarray를 이용해서 list를 np array로 만들어서 너어준다\n",
    "    pred_word_attention    = attention_extractor.predict(tokenized_sentences_input)[0]  # [0] : word attention만 가져오기, (1, 15, 100)\n",
    "    pred_sentence_attention= attention_extractor.predict(tokenized_sentences_input)[1]  # [1] : sentence attention만 가져오기, (1, 15)\n",
    "\n",
    "    # 문장단위 어탠션 nomalize, [0.30764675, 0.27119225, 0.17760307, 0.11542551, 0.07580608, 0.05232629]\n",
    "    real_sentence_attention = pred_sentence_attention[0][:-pad_size]\n",
    "    real_sentence_attention = real_sentence_attention / (np.sum(real_sentence_attention))  # normalize\n",
    "    real_sentence_attention\n",
    "    # 문장단위 어텐션 visualize\n",
    "    print('Sentence attention visualize\\n')\n",
    "    for i, sentence in enumerate(sentences):\n",
    "        print(round(real_sentence_attention[i],2),': ' , end='')\n",
    "        for j in sentence:\n",
    "            highlight_normalize(j, real_sentence_attention[i], np.min(real_sentence_attention), np.max(real_sentence_attention) )\n",
    "        print()\n",
    "\n",
    "    # 단어단위 어텐션 visualize\n",
    "    print('\\nword attention visualize\\n')\n",
    "    for i, sentence in enumerate(tokenized_sentences[:-pad_size]):\n",
    "        # word_rev_index로 idx -> 실제 단어, 0제외\n",
    "        words = [word_rev_index[word_id] for word_id in sentence if word_id != 0][:50]\n",
    "        pred_att = np.asarray(pred_word_attention[0][i][::-1][:len(words)][::-1])  # [::-1]로 순서 뒤집고, 단어수만큼만 짜르고, 다시 순서 뒤집어서 단어만 나오도록\n",
    "\n",
    "        for j, word in enumerate(words):\n",
    "            highlight_normalize(word, pred_att[j], np.min(pred_att), np.max(pred_att))\n",
    "            print(' ',end='')\n",
    "        print()"
   ]
  },
  {
   "cell_type": "code",
   "execution_count": 46,
   "metadata": {},
   "outputs": [
    {
     "data": {
      "text/html": [
       "<div>\n",
       "<style scoped>\n",
       "    .dataframe tbody tr th:only-of-type {\n",
       "        vertical-align: middle;\n",
       "    }\n",
       "\n",
       "    .dataframe tbody tr th {\n",
       "        vertical-align: top;\n",
       "    }\n",
       "\n",
       "    .dataframe thead th {\n",
       "        text-align: right;\n",
       "    }\n",
       "</style>\n",
       "<table border=\"1\" class=\"dataframe\">\n",
       "  <thead>\n",
       "    <tr style=\"text-align: right;\">\n",
       "      <th></th>\n",
       "      <th>review</th>\n",
       "      <th>sentiment</th>\n",
       "      <th>Processed_Reviews</th>\n",
       "    </tr>\n",
       "  </thead>\n",
       "  <tbody>\n",
       "    <tr>\n",
       "      <th>0</th>\n",
       "      <td>With all this stuff going down at the moment w...</td>\n",
       "      <td>1</td>\n",
       "      <td>stuff go moment mj ive start listen music watc...</td>\n",
       "    </tr>\n",
       "    <tr>\n",
       "      <th>1</th>\n",
       "      <td>\\The Classic War of the Worlds\\\" by Timothy Hi...</td>\n",
       "      <td>1</td>\n",
       "      <td>classic war world timothy hines entertain film...</td>\n",
       "    </tr>\n",
       "    <tr>\n",
       "      <th>2</th>\n",
       "      <td>The film starts with a manager (Nicholas Bell)...</td>\n",
       "      <td>0</td>\n",
       "      <td>film start manager nicholas bell give welcome ...</td>\n",
       "    </tr>\n",
       "  </tbody>\n",
       "</table>\n",
       "</div>"
      ],
      "text/plain": [
       "                                              review  sentiment  \\\n",
       "0  With all this stuff going down at the moment w...          1   \n",
       "1  \\The Classic War of the Worlds\\\" by Timothy Hi...          1   \n",
       "2  The film starts with a manager (Nicholas Bell)...          0   \n",
       "\n",
       "                                   Processed_Reviews  \n",
       "0  stuff go moment mj ive start listen music watc...  \n",
       "1  classic war world timothy hines entertain film...  \n",
       "2  film start manager nicholas bell give welcome ...  "
      ]
     },
     "execution_count": 46,
     "metadata": {},
     "output_type": "execute_result"
    }
   ],
   "source": [
    "data_copy[:3]"
   ]
  },
  {
   "cell_type": "code",
   "execution_count": 70,
   "metadata": {
    "scrolled": false
   },
   "outputs": [
    {
     "name": "stdout",
     "output_type": "stream",
     "text": [
      "Sentence attention visualize\n",
      "\n",
      "0.92 : \u001b[48;5;160m\u001b[1mD\u001b[0m\u001b[48;5;160m\u001b[1me\u001b[0m\u001b[48;5;160m\u001b[1ml\u001b[0m\u001b[48;5;160m\u001b[1mi\u001b[0m\u001b[48;5;160m\u001b[1mc\u001b[0m\u001b[48;5;160m\u001b[1mi\u001b[0m\u001b[48;5;160m\u001b[1mo\u001b[0m\u001b[48;5;160m\u001b[1mu\u001b[0m\u001b[48;5;160m\u001b[1ms\u001b[0m\u001b[48;5;160m\u001b[1m \u001b[0m\u001b[48;5;160m\u001b[1mh\u001b[0m\u001b[48;5;160m\u001b[1me\u001b[0m\u001b[48;5;160m\u001b[1ma\u001b[0m\u001b[48;5;160m\u001b[1ml\u001b[0m\u001b[48;5;160m\u001b[1mt\u001b[0m\u001b[48;5;160m\u001b[1mh\u001b[0m\u001b[48;5;160m\u001b[1my\u001b[0m\u001b[48;5;160m\u001b[1m \u001b[0m\u001b[48;5;160m\u001b[1mf\u001b[0m\u001b[48;5;160m\u001b[1mo\u001b[0m\u001b[48;5;160m\u001b[1mo\u001b[0m\u001b[48;5;160m\u001b[1md\u001b[0m\u001b[48;5;160m\u001b[1m.\u001b[0m\n",
      "0.05 : \u001b[48;5;225m\u001b[1mT\u001b[0m\u001b[48;5;225m\u001b[1mh\u001b[0m\u001b[48;5;225m\u001b[1me\u001b[0m\u001b[48;5;225m\u001b[1m \u001b[0m\u001b[48;5;225m\u001b[1ms\u001b[0m\u001b[48;5;225m\u001b[1mt\u001b[0m\u001b[48;5;225m\u001b[1me\u001b[0m\u001b[48;5;225m\u001b[1ma\u001b[0m\u001b[48;5;225m\u001b[1mk\u001b[0m\u001b[48;5;225m\u001b[1m \u001b[0m\u001b[48;5;225m\u001b[1mi\u001b[0m\u001b[48;5;225m\u001b[1ms\u001b[0m\u001b[48;5;225m\u001b[1m \u001b[0m\u001b[48;5;225m\u001b[1ma\u001b[0m\u001b[48;5;225m\u001b[1mm\u001b[0m\u001b[48;5;225m\u001b[1ma\u001b[0m\u001b[48;5;225m\u001b[1mz\u001b[0m\u001b[48;5;225m\u001b[1mi\u001b[0m\u001b[48;5;225m\u001b[1mn\u001b[0m\u001b[48;5;225m\u001b[1mg\u001b[0m\u001b[48;5;225m\u001b[1m.\u001b[0m\n",
      "0.01 : \u001b[48;5;225m\u001b[1mF\u001b[0m\u001b[48;5;225m\u001b[1mi\u001b[0m\u001b[48;5;225m\u001b[1ms\u001b[0m\u001b[48;5;225m\u001b[1mh\u001b[0m\u001b[48;5;225m\u001b[1m \u001b[0m\u001b[48;5;225m\u001b[1ma\u001b[0m\u001b[48;5;225m\u001b[1mn\u001b[0m\u001b[48;5;225m\u001b[1md\u001b[0m\u001b[48;5;225m\u001b[1m \u001b[0m\u001b[48;5;225m\u001b[1mp\u001b[0m\u001b[48;5;225m\u001b[1mo\u001b[0m\u001b[48;5;225m\u001b[1mr\u001b[0m\u001b[48;5;225m\u001b[1mk\u001b[0m\u001b[48;5;225m\u001b[1m \u001b[0m\u001b[48;5;225m\u001b[1ma\u001b[0m\u001b[48;5;225m\u001b[1mr\u001b[0m\u001b[48;5;225m\u001b[1me\u001b[0m\u001b[48;5;225m\u001b[1m \u001b[0m\u001b[48;5;225m\u001b[1ma\u001b[0m\u001b[48;5;225m\u001b[1mw\u001b[0m\u001b[48;5;225m\u001b[1me\u001b[0m\u001b[48;5;225m\u001b[1ms\u001b[0m\u001b[48;5;225m\u001b[1mo\u001b[0m\u001b[48;5;225m\u001b[1mm\u001b[0m\u001b[48;5;225m\u001b[1me\u001b[0m\u001b[48;5;225m\u001b[1m \u001b[0m\u001b[48;5;225m\u001b[1mt\u001b[0m\u001b[48;5;225m\u001b[1mo\u001b[0m\u001b[48;5;225m\u001b[1mo\u001b[0m\u001b[48;5;225m\u001b[1m.\u001b[0m\n",
      "0.0 : \u001b[48;5;225m\u001b[1mS\u001b[0m\u001b[48;5;225m\u001b[1me\u001b[0m\u001b[48;5;225m\u001b[1mr\u001b[0m\u001b[48;5;225m\u001b[1mv\u001b[0m\u001b[48;5;225m\u001b[1mi\u001b[0m\u001b[48;5;225m\u001b[1mc\u001b[0m\u001b[48;5;225m\u001b[1me\u001b[0m\u001b[48;5;225m\u001b[1m \u001b[0m\u001b[48;5;225m\u001b[1mi\u001b[0m\u001b[48;5;225m\u001b[1ms\u001b[0m\u001b[48;5;225m\u001b[1m \u001b[0m\u001b[48;5;225m\u001b[1ma\u001b[0m\u001b[48;5;225m\u001b[1mb\u001b[0m\u001b[48;5;225m\u001b[1mo\u001b[0m\u001b[48;5;225m\u001b[1mv\u001b[0m\u001b[48;5;225m\u001b[1me\u001b[0m\u001b[48;5;225m\u001b[1m \u001b[0m\u001b[48;5;225m\u001b[1ma\u001b[0m\u001b[48;5;225m\u001b[1mn\u001b[0m\u001b[48;5;225m\u001b[1md\u001b[0m\u001b[48;5;225m\u001b[1m \u001b[0m\u001b[48;5;225m\u001b[1mb\u001b[0m\u001b[48;5;225m\u001b[1me\u001b[0m\u001b[48;5;225m\u001b[1my\u001b[0m\u001b[48;5;225m\u001b[1mo\u001b[0m\u001b[48;5;225m\u001b[1mn\u001b[0m\u001b[48;5;225m\u001b[1md\u001b[0m\u001b[48;5;225m\u001b[1m.\u001b[0m\n",
      "0.0 : Not a bad thing to say about this place.\n",
      "0.01 : \u001b[48;5;225m\u001b[1mW\u001b[0m\u001b[48;5;225m\u001b[1mo\u001b[0m\u001b[48;5;225m\u001b[1mr\u001b[0m\u001b[48;5;225m\u001b[1mt\u001b[0m\u001b[48;5;225m\u001b[1mh\u001b[0m\u001b[48;5;225m\u001b[1m \u001b[0m\u001b[48;5;225m\u001b[1me\u001b[0m\u001b[48;5;225m\u001b[1mv\u001b[0m\u001b[48;5;225m\u001b[1me\u001b[0m\u001b[48;5;225m\u001b[1mr\u001b[0m\u001b[48;5;225m\u001b[1my\u001b[0m\u001b[48;5;225m\u001b[1m \u001b[0m\u001b[48;5;225m\u001b[1mp\u001b[0m\u001b[48;5;225m\u001b[1me\u001b[0m\u001b[48;5;225m\u001b[1mn\u001b[0m\u001b[48;5;225m\u001b[1mn\u001b[0m\u001b[48;5;225m\u001b[1my\u001b[0m\u001b[48;5;225m\u001b[1m!\u001b[0m\n",
      "\n",
      "word attention visualize\n",
      "\n",
      "\u001b[48;5;160m\u001b[1mdelicious\u001b[0m \u001b[48;5;225m\u001b[1mhealthy\u001b[0m food \n",
      "\u001b[48;5;160m\u001b[1mthe\u001b[0m \u001b[48;5;217m\u001b[1msteak\u001b[0m is \u001b[48;5;224m\u001b[1mamazing\u001b[0m \n",
      "\u001b[48;5;224m\u001b[1mfish\u001b[0m \u001b[48;5;210m\u001b[1mand\u001b[0m \u001b[48;5;160m\u001b[1mpork\u001b[0m \u001b[48;5;225m\u001b[1mare\u001b[0m \u001b[48;5;210m\u001b[1mawesome\u001b[0m too \n",
      "\u001b[48;5;160m\u001b[1mservice\u001b[0m \u001b[48;5;225m\u001b[1mis\u001b[0m \u001b[48;5;225m\u001b[1mabove\u001b[0m and \u001b[48;5;225m\u001b[1mbeyond\u001b[0m \n",
      "\u001b[48;5;217m\u001b[1mnot\u001b[0m \u001b[48;5;224m\u001b[1ma\u001b[0m \u001b[48;5;210m\u001b[1mbad\u001b[0m \u001b[48;5;225m\u001b[1mthing\u001b[0m \u001b[48;5;225m\u001b[1mto\u001b[0m say \u001b[48;5;225m\u001b[1mabout\u001b[0m \u001b[48;5;160m\u001b[1mthis\u001b[0m \u001b[48;5;217m\u001b[1mplace\u001b[0m \n",
      "\u001b[48;5;160m\u001b[1mworth\u001b[0m every \u001b[48;5;225m\u001b[1mpenny\u001b[0m \n"
     ]
    }
   ],
   "source": [
    "# for i in range(444, 449):\n",
    "#     review = []\n",
    "#     review = data_copy.review[i]\n",
    "#     if data_copy.sentiment[i] == 1:\n",
    "#         print('긍정', i)\n",
    "#     else:\n",
    "#         print('부정', i)\n",
    "    \n",
    "#     sentiment_analysis(review)\n",
    "#     print('\\n\\n\\n')\n",
    "sentiment_analysis(\"Delicious healthy food. The steak is amazing. Fish and pork are awesome too. Service is above and beyond. Not a bad thing to say about this place. Worth every penny!\")\n"
   ]
  },
  {
   "cell_type": "markdown",
   "metadata": {},
   "source": [
    "# F1 score 계산"
   ]
  },
  {
   "cell_type": "code",
   "execution_count": 26,
   "metadata": {},
   "outputs": [
    {
     "name": "stdout",
     "output_type": "stream",
     "text": [
      "15000/15000 [==============================] - 82s 5ms/step\n",
      "accuracy: [0.6269252490109956, 0.9449999999682108]\n",
      "F1-score: 0.9446791390062361\n",
      "Confusion matrix:\n",
      "[[7131  390]\n",
      " [ 435 7044]]\n"
     ]
    }
   ],
   "source": [
    "# F1 score & confusion matrix 구하기 위해서 [1,0] -> [True] 식으로 변환\n",
    "from sklearn.metrics import f1_score, confusion_matrix\n",
    "prediction = model.predict(x_val)\n",
    "y_val = y_val\n",
    "y_pred = (prediction > 0.5)\n",
    "y_val_temp = (y_val > 0.5)\n",
    "\n",
    "y_pred = []\n",
    "for i in range(len(prediction)):\n",
    "    if prediction[i][1] > 0.5:\n",
    "        y_pred.append(True)\n",
    "    else:\n",
    "        y_pred.append(False)\n",
    "        \n",
    "y_val_temp = []\n",
    "for i in range(len(y_val)):\n",
    "    if y_val[i][1] == 1:\n",
    "        y_val_temp.append(True)\n",
    "    else:\n",
    "        y_val_temp.append(False)\n",
    "\n",
    "print('accuracy: {0}'.format(model.evaluate(x_val, y_val)))\n",
    "print('F1-score: {0}'.format(f1_score(y_pred, y_val_temp)))\n",
    "print('Confusion matrix:')\n",
    "print(confusion_matrix(y_pred, y_val_temp))"
   ]
  }
 ],
 "metadata": {
  "kernelspec": {
   "display_name": "Python 3",
   "language": "python",
   "name": "python3"
  },
  "language_info": {
   "codemirror_mode": {
    "name": "ipython",
    "version": 3
   },
   "file_extension": ".py",
   "mimetype": "text/x-python",
   "name": "python",
   "nbconvert_exporter": "python",
   "pygments_lexer": "ipython3",
   "version": "3.6.6"
  }
 },
 "nbformat": 4,
 "nbformat_minor": 2
}
